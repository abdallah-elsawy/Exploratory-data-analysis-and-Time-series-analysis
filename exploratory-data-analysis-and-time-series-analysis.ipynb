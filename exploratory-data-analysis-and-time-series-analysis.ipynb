{
 "cells": [
  {
   "cell_type": "markdown",
   "id": "22efe017",
   "metadata": {
    "papermill": {
     "duration": 0.04971,
     "end_time": "2022-02-18T21:46:01.714208",
     "exception": false,
     "start_time": "2022-02-18T21:46:01.664498",
     "status": "completed"
    },
    "tags": []
   },
   "source": [
    "#  Flights"
   ]
  },
  {
   "cell_type": "markdown",
   "id": "2e7c64d1",
   "metadata": {
    "papermill": {
     "duration": 0.044747,
     "end_time": "2022-02-18T21:46:01.805154",
     "exception": false,
     "start_time": "2022-02-18T21:46:01.760407",
     "status": "completed"
    },
    "tags": []
   },
   "source": [
    "### Load needed library"
   ]
  },
  {
   "cell_type": "code",
   "execution_count": 1,
   "id": "bbf4f606",
   "metadata": {
    "execution": {
     "iopub.execute_input": "2022-02-18T21:46:01.902846Z",
     "iopub.status.busy": "2022-02-18T21:46:01.901163Z",
     "iopub.status.idle": "2022-02-18T21:46:01.910157Z",
     "shell.execute_reply": "2022-02-18T21:46:01.910791Z",
     "shell.execute_reply.started": "2022-02-18T21:43:05.202934Z"
    },
    "papermill": {
     "duration": 0.059481,
     "end_time": "2022-02-18T21:46:01.911070",
     "exception": false,
     "start_time": "2022-02-18T21:46:01.851589",
     "status": "completed"
    },
    "tags": []
   },
   "outputs": [],
   "source": [
    "import pandas as pd\n",
    "import numpy as np\n",
    "import time\n",
    "\n",
    "import warnings\n",
    "warnings.filterwarnings('ignore')"
   ]
  },
  {
   "cell_type": "markdown",
   "id": "71deb450",
   "metadata": {
    "papermill": {
     "duration": 0.045879,
     "end_time": "2022-02-18T21:46:02.004057",
     "exception": false,
     "start_time": "2022-02-18T21:46:01.958178",
     "status": "completed"
    },
    "tags": []
   },
   "source": [
    "### Import our Data"
   ]
  },
  {
   "cell_type": "code",
   "execution_count": 2,
   "id": "472213ef",
   "metadata": {
    "execution": {
     "iopub.execute_input": "2022-02-18T21:46:02.098523Z",
     "iopub.status.busy": "2022-02-18T21:46:02.097571Z",
     "iopub.status.idle": "2022-02-18T21:46:02.969742Z",
     "shell.execute_reply": "2022-02-18T21:46:02.969003Z",
     "shell.execute_reply.started": "2022-02-18T21:43:05.211725Z"
    },
    "papermill": {
     "duration": 0.920507,
     "end_time": "2022-02-18T21:46:02.969899",
     "exception": false,
     "start_time": "2022-02-18T21:46:02.049392",
     "status": "completed"
    },
    "tags": []
   },
   "outputs": [],
   "source": [
    "df = pd.read_csv('/kaggle/input/flights/flights.csv')"
   ]
  },
  {
   "cell_type": "markdown",
   "id": "e3586710",
   "metadata": {
    "papermill": {
     "duration": 0.045051,
     "end_time": "2022-02-18T21:46:03.062453",
     "exception": false,
     "start_time": "2022-02-18T21:46:03.017402",
     "status": "completed"
    },
    "tags": []
   },
   "source": [
    "# Data Overview"
   ]
  },
  {
   "cell_type": "code",
   "execution_count": 3,
   "id": "5bd7e5bc",
   "metadata": {
    "execution": {
     "iopub.execute_input": "2022-02-18T21:46:03.156542Z",
     "iopub.status.busy": "2022-02-18T21:46:03.155589Z",
     "iopub.status.idle": "2022-02-18T21:46:03.193498Z",
     "shell.execute_reply": "2022-02-18T21:46:03.193984Z",
     "shell.execute_reply.started": "2022-02-18T21:43:06.142752Z"
    },
    "papermill": {
     "duration": 0.086471,
     "end_time": "2022-02-18T21:46:03.194143",
     "exception": false,
     "start_time": "2022-02-18T21:46:03.107672",
     "status": "completed"
    },
    "tags": []
   },
   "outputs": [
    {
     "data": {
      "text/html": [
       "<div>\n",
       "<style scoped>\n",
       "    .dataframe tbody tr th:only-of-type {\n",
       "        vertical-align: middle;\n",
       "    }\n",
       "\n",
       "    .dataframe tbody tr th {\n",
       "        vertical-align: top;\n",
       "    }\n",
       "\n",
       "    .dataframe thead th {\n",
       "        text-align: right;\n",
       "    }\n",
       "</style>\n",
       "<table border=\"1\" class=\"dataframe\">\n",
       "  <thead>\n",
       "    <tr style=\"text-align: right;\">\n",
       "      <th></th>\n",
       "      <th>year</th>\n",
       "      <th>month</th>\n",
       "      <th>day</th>\n",
       "      <th>dep_time</th>\n",
       "      <th>sched_dep_time</th>\n",
       "      <th>dep_delay</th>\n",
       "      <th>arr_time</th>\n",
       "      <th>sched_arr_time</th>\n",
       "      <th>arr_delay</th>\n",
       "      <th>carrier</th>\n",
       "      <th>flight</th>\n",
       "      <th>tailnum</th>\n",
       "      <th>origin</th>\n",
       "      <th>dest</th>\n",
       "      <th>air_time</th>\n",
       "      <th>distance</th>\n",
       "      <th>hour</th>\n",
       "      <th>minute</th>\n",
       "      <th>time_hour</th>\n",
       "    </tr>\n",
       "  </thead>\n",
       "  <tbody>\n",
       "    <tr>\n",
       "      <th>0</th>\n",
       "      <td>2013</td>\n",
       "      <td>1</td>\n",
       "      <td>1</td>\n",
       "      <td>517.0</td>\n",
       "      <td>515</td>\n",
       "      <td>2.0</td>\n",
       "      <td>830.0</td>\n",
       "      <td>819</td>\n",
       "      <td>11.0</td>\n",
       "      <td>UA</td>\n",
       "      <td>1545</td>\n",
       "      <td>N14228</td>\n",
       "      <td>EWR</td>\n",
       "      <td>IAH</td>\n",
       "      <td>227.0</td>\n",
       "      <td>1400</td>\n",
       "      <td>5</td>\n",
       "      <td>15</td>\n",
       "      <td>2013-01-01T10:00:00Z</td>\n",
       "    </tr>\n",
       "    <tr>\n",
       "      <th>1</th>\n",
       "      <td>2013</td>\n",
       "      <td>1</td>\n",
       "      <td>1</td>\n",
       "      <td>533.0</td>\n",
       "      <td>529</td>\n",
       "      <td>4.0</td>\n",
       "      <td>850.0</td>\n",
       "      <td>830</td>\n",
       "      <td>20.0</td>\n",
       "      <td>UA</td>\n",
       "      <td>1714</td>\n",
       "      <td>N24211</td>\n",
       "      <td>LGA</td>\n",
       "      <td>IAH</td>\n",
       "      <td>227.0</td>\n",
       "      <td>1416</td>\n",
       "      <td>5</td>\n",
       "      <td>29</td>\n",
       "      <td>2013-01-01T10:00:00Z</td>\n",
       "    </tr>\n",
       "    <tr>\n",
       "      <th>2</th>\n",
       "      <td>2013</td>\n",
       "      <td>1</td>\n",
       "      <td>1</td>\n",
       "      <td>542.0</td>\n",
       "      <td>540</td>\n",
       "      <td>2.0</td>\n",
       "      <td>923.0</td>\n",
       "      <td>850</td>\n",
       "      <td>33.0</td>\n",
       "      <td>AA</td>\n",
       "      <td>1141</td>\n",
       "      <td>N619AA</td>\n",
       "      <td>JFK</td>\n",
       "      <td>MIA</td>\n",
       "      <td>160.0</td>\n",
       "      <td>1089</td>\n",
       "      <td>5</td>\n",
       "      <td>40</td>\n",
       "      <td>2013-01-01T10:00:00Z</td>\n",
       "    </tr>\n",
       "    <tr>\n",
       "      <th>3</th>\n",
       "      <td>2013</td>\n",
       "      <td>1</td>\n",
       "      <td>1</td>\n",
       "      <td>544.0</td>\n",
       "      <td>545</td>\n",
       "      <td>-1.0</td>\n",
       "      <td>1004.0</td>\n",
       "      <td>1022</td>\n",
       "      <td>-18.0</td>\n",
       "      <td>B6</td>\n",
       "      <td>725</td>\n",
       "      <td>N804JB</td>\n",
       "      <td>JFK</td>\n",
       "      <td>BQN</td>\n",
       "      <td>183.0</td>\n",
       "      <td>1576</td>\n",
       "      <td>5</td>\n",
       "      <td>45</td>\n",
       "      <td>2013-01-01T10:00:00Z</td>\n",
       "    </tr>\n",
       "    <tr>\n",
       "      <th>4</th>\n",
       "      <td>2013</td>\n",
       "      <td>1</td>\n",
       "      <td>1</td>\n",
       "      <td>554.0</td>\n",
       "      <td>600</td>\n",
       "      <td>-6.0</td>\n",
       "      <td>812.0</td>\n",
       "      <td>837</td>\n",
       "      <td>-25.0</td>\n",
       "      <td>DL</td>\n",
       "      <td>461</td>\n",
       "      <td>N668DN</td>\n",
       "      <td>LGA</td>\n",
       "      <td>ATL</td>\n",
       "      <td>116.0</td>\n",
       "      <td>762</td>\n",
       "      <td>6</td>\n",
       "      <td>0</td>\n",
       "      <td>2013-01-01T11:00:00Z</td>\n",
       "    </tr>\n",
       "    <tr>\n",
       "      <th>...</th>\n",
       "      <td>...</td>\n",
       "      <td>...</td>\n",
       "      <td>...</td>\n",
       "      <td>...</td>\n",
       "      <td>...</td>\n",
       "      <td>...</td>\n",
       "      <td>...</td>\n",
       "      <td>...</td>\n",
       "      <td>...</td>\n",
       "      <td>...</td>\n",
       "      <td>...</td>\n",
       "      <td>...</td>\n",
       "      <td>...</td>\n",
       "      <td>...</td>\n",
       "      <td>...</td>\n",
       "      <td>...</td>\n",
       "      <td>...</td>\n",
       "      <td>...</td>\n",
       "      <td>...</td>\n",
       "    </tr>\n",
       "    <tr>\n",
       "      <th>95</th>\n",
       "      <td>2013</td>\n",
       "      <td>1</td>\n",
       "      <td>1</td>\n",
       "      <td>746.0</td>\n",
       "      <td>746</td>\n",
       "      <td>0.0</td>\n",
       "      <td>1119.0</td>\n",
       "      <td>1129</td>\n",
       "      <td>-10.0</td>\n",
       "      <td>UA</td>\n",
       "      <td>1668</td>\n",
       "      <td>N24224</td>\n",
       "      <td>EWR</td>\n",
       "      <td>SFO</td>\n",
       "      <td>373.0</td>\n",
       "      <td>2565</td>\n",
       "      <td>7</td>\n",
       "      <td>46</td>\n",
       "      <td>2013-01-01T12:00:00Z</td>\n",
       "    </tr>\n",
       "    <tr>\n",
       "      <th>96</th>\n",
       "      <td>2013</td>\n",
       "      <td>1</td>\n",
       "      <td>1</td>\n",
       "      <td>749.0</td>\n",
       "      <td>710</td>\n",
       "      <td>39.0</td>\n",
       "      <td>939.0</td>\n",
       "      <td>850</td>\n",
       "      <td>49.0</td>\n",
       "      <td>MQ</td>\n",
       "      <td>3737</td>\n",
       "      <td>N508MQ</td>\n",
       "      <td>EWR</td>\n",
       "      <td>ORD</td>\n",
       "      <td>148.0</td>\n",
       "      <td>719</td>\n",
       "      <td>7</td>\n",
       "      <td>10</td>\n",
       "      <td>2013-01-01T12:00:00Z</td>\n",
       "    </tr>\n",
       "    <tr>\n",
       "      <th>97</th>\n",
       "      <td>2013</td>\n",
       "      <td>1</td>\n",
       "      <td>1</td>\n",
       "      <td>752.0</td>\n",
       "      <td>755</td>\n",
       "      <td>-3.0</td>\n",
       "      <td>1041.0</td>\n",
       "      <td>1059</td>\n",
       "      <td>-18.0</td>\n",
       "      <td>DL</td>\n",
       "      <td>2263</td>\n",
       "      <td>N325US</td>\n",
       "      <td>LGA</td>\n",
       "      <td>MCO</td>\n",
       "      <td>140.0</td>\n",
       "      <td>950</td>\n",
       "      <td>7</td>\n",
       "      <td>55</td>\n",
       "      <td>2013-01-01T12:00:00Z</td>\n",
       "    </tr>\n",
       "    <tr>\n",
       "      <th>98</th>\n",
       "      <td>2013</td>\n",
       "      <td>1</td>\n",
       "      <td>1</td>\n",
       "      <td>752.0</td>\n",
       "      <td>750</td>\n",
       "      <td>2.0</td>\n",
       "      <td>1025.0</td>\n",
       "      <td>1029</td>\n",
       "      <td>-4.0</td>\n",
       "      <td>UA</td>\n",
       "      <td>477</td>\n",
       "      <td>N511UA</td>\n",
       "      <td>LGA</td>\n",
       "      <td>DEN</td>\n",
       "      <td>249.0</td>\n",
       "      <td>1620</td>\n",
       "      <td>7</td>\n",
       "      <td>50</td>\n",
       "      <td>2013-01-01T12:00:00Z</td>\n",
       "    </tr>\n",
       "    <tr>\n",
       "      <th>99</th>\n",
       "      <td>2013</td>\n",
       "      <td>1</td>\n",
       "      <td>1</td>\n",
       "      <td>752.0</td>\n",
       "      <td>759</td>\n",
       "      <td>-7.0</td>\n",
       "      <td>955.0</td>\n",
       "      <td>959</td>\n",
       "      <td>-4.0</td>\n",
       "      <td>US</td>\n",
       "      <td>1733</td>\n",
       "      <td>N543UW</td>\n",
       "      <td>LGA</td>\n",
       "      <td>CLT</td>\n",
       "      <td>96.0</td>\n",
       "      <td>544</td>\n",
       "      <td>7</td>\n",
       "      <td>59</td>\n",
       "      <td>2013-01-01T12:00:00Z</td>\n",
       "    </tr>\n",
       "  </tbody>\n",
       "</table>\n",
       "<p>100 rows × 19 columns</p>\n",
       "</div>"
      ],
      "text/plain": [
       "    year  month  day  dep_time  sched_dep_time  dep_delay  arr_time  \\\n",
       "0   2013      1    1     517.0             515        2.0     830.0   \n",
       "1   2013      1    1     533.0             529        4.0     850.0   \n",
       "2   2013      1    1     542.0             540        2.0     923.0   \n",
       "3   2013      1    1     544.0             545       -1.0    1004.0   \n",
       "4   2013      1    1     554.0             600       -6.0     812.0   \n",
       "..   ...    ...  ...       ...             ...        ...       ...   \n",
       "95  2013      1    1     746.0             746        0.0    1119.0   \n",
       "96  2013      1    1     749.0             710       39.0     939.0   \n",
       "97  2013      1    1     752.0             755       -3.0    1041.0   \n",
       "98  2013      1    1     752.0             750        2.0    1025.0   \n",
       "99  2013      1    1     752.0             759       -7.0     955.0   \n",
       "\n",
       "    sched_arr_time  arr_delay carrier  flight tailnum origin dest  air_time  \\\n",
       "0              819       11.0      UA    1545  N14228    EWR  IAH     227.0   \n",
       "1              830       20.0      UA    1714  N24211    LGA  IAH     227.0   \n",
       "2              850       33.0      AA    1141  N619AA    JFK  MIA     160.0   \n",
       "3             1022      -18.0      B6     725  N804JB    JFK  BQN     183.0   \n",
       "4              837      -25.0      DL     461  N668DN    LGA  ATL     116.0   \n",
       "..             ...        ...     ...     ...     ...    ...  ...       ...   \n",
       "95            1129      -10.0      UA    1668  N24224    EWR  SFO     373.0   \n",
       "96             850       49.0      MQ    3737  N508MQ    EWR  ORD     148.0   \n",
       "97            1059      -18.0      DL    2263  N325US    LGA  MCO     140.0   \n",
       "98            1029       -4.0      UA     477  N511UA    LGA  DEN     249.0   \n",
       "99             959       -4.0      US    1733  N543UW    LGA  CLT      96.0   \n",
       "\n",
       "    distance  hour  minute             time_hour  \n",
       "0       1400     5      15  2013-01-01T10:00:00Z  \n",
       "1       1416     5      29  2013-01-01T10:00:00Z  \n",
       "2       1089     5      40  2013-01-01T10:00:00Z  \n",
       "3       1576     5      45  2013-01-01T10:00:00Z  \n",
       "4        762     6       0  2013-01-01T11:00:00Z  \n",
       "..       ...   ...     ...                   ...  \n",
       "95      2565     7      46  2013-01-01T12:00:00Z  \n",
       "96       719     7      10  2013-01-01T12:00:00Z  \n",
       "97       950     7      55  2013-01-01T12:00:00Z  \n",
       "98      1620     7      50  2013-01-01T12:00:00Z  \n",
       "99       544     7      59  2013-01-01T12:00:00Z  \n",
       "\n",
       "[100 rows x 19 columns]"
      ]
     },
     "execution_count": 3,
     "metadata": {},
     "output_type": "execute_result"
    }
   ],
   "source": [
    "df.head(100)"
   ]
  },
  {
   "cell_type": "code",
   "execution_count": 4,
   "id": "51549b3b",
   "metadata": {
    "execution": {
     "iopub.execute_input": "2022-02-18T21:46:03.291052Z",
     "iopub.status.busy": "2022-02-18T21:46:03.290106Z",
     "iopub.status.idle": "2022-02-18T21:46:03.295252Z",
     "shell.execute_reply": "2022-02-18T21:46:03.295770Z",
     "shell.execute_reply.started": "2022-02-18T21:43:06.189712Z"
    },
    "papermill": {
     "duration": 0.055223,
     "end_time": "2022-02-18T21:46:03.295936",
     "exception": false,
     "start_time": "2022-02-18T21:46:03.240713",
     "status": "completed"
    },
    "tags": []
   },
   "outputs": [
    {
     "data": {
      "text/plain": [
       "(336776, 19)"
      ]
     },
     "execution_count": 4,
     "metadata": {},
     "output_type": "execute_result"
    }
   ],
   "source": [
    "df.shape"
   ]
  },
  {
   "cell_type": "markdown",
   "id": "154dc90d",
   "metadata": {
    "papermill": {
     "duration": 0.046413,
     "end_time": "2022-02-18T21:46:03.388571",
     "exception": false,
     "start_time": "2022-02-18T21:46:03.342158",
     "status": "completed"
    },
    "tags": []
   },
   "source": [
    "### know the number of columns and row of our dataset"
   ]
  },
  {
   "cell_type": "code",
   "execution_count": 5,
   "id": "6b9cdf25",
   "metadata": {
    "execution": {
     "iopub.execute_input": "2022-02-18T21:46:03.485456Z",
     "iopub.status.busy": "2022-02-18T21:46:03.484339Z",
     "iopub.status.idle": "2022-02-18T21:46:03.584292Z",
     "shell.execute_reply": "2022-02-18T21:46:03.585229Z",
     "shell.execute_reply.started": "2022-02-18T21:43:06.201746Z"
    },
    "papermill": {
     "duration": 0.15016,
     "end_time": "2022-02-18T21:46:03.585469",
     "exception": false,
     "start_time": "2022-02-18T21:46:03.435309",
     "status": "completed"
    },
    "tags": []
   },
   "outputs": [
    {
     "name": "stdout",
     "output_type": "stream",
     "text": [
      "<class 'pandas.core.frame.DataFrame'>\n",
      "RangeIndex: 336776 entries, 0 to 336775\n",
      "Data columns (total 19 columns):\n",
      " #   Column          Non-Null Count   Dtype  \n",
      "---  ------          --------------   -----  \n",
      " 0   year            336776 non-null  int64  \n",
      " 1   month           336776 non-null  int64  \n",
      " 2   day             336776 non-null  int64  \n",
      " 3   dep_time        328521 non-null  float64\n",
      " 4   sched_dep_time  336776 non-null  int64  \n",
      " 5   dep_delay       328521 non-null  float64\n",
      " 6   arr_time        328063 non-null  float64\n",
      " 7   sched_arr_time  336776 non-null  int64  \n",
      " 8   arr_delay       327346 non-null  float64\n",
      " 9   carrier         336776 non-null  object \n",
      " 10  flight          336776 non-null  int64  \n",
      " 11  tailnum         334264 non-null  object \n",
      " 12  origin          336776 non-null  object \n",
      " 13  dest            336776 non-null  object \n",
      " 14  air_time        327346 non-null  float64\n",
      " 15  distance        336776 non-null  int64  \n",
      " 16  hour            336776 non-null  int64  \n",
      " 17  minute          336776 non-null  int64  \n",
      " 18  time_hour       336776 non-null  object \n",
      "dtypes: float64(5), int64(9), object(5)\n",
      "memory usage: 48.8+ MB\n"
     ]
    }
   ],
   "source": [
    "df.info()"
   ]
  },
  {
   "cell_type": "code",
   "execution_count": 6,
   "id": "c88e8fcc",
   "metadata": {
    "execution": {
     "iopub.execute_input": "2022-02-18T21:46:03.685690Z",
     "iopub.status.busy": "2022-02-18T21:46:03.685108Z",
     "iopub.status.idle": "2022-02-18T21:46:03.690522Z",
     "shell.execute_reply": "2022-02-18T21:46:03.691009Z",
     "shell.execute_reply.started": "2022-02-18T21:43:06.410544Z"
    },
    "papermill": {
     "duration": 0.055833,
     "end_time": "2022-02-18T21:46:03.691170",
     "exception": false,
     "start_time": "2022-02-18T21:46:03.635337",
     "status": "completed"
    },
    "tags": []
   },
   "outputs": [
    {
     "data": {
      "text/plain": [
       "year                int64\n",
       "month               int64\n",
       "day                 int64\n",
       "dep_time          float64\n",
       "sched_dep_time      int64\n",
       "dep_delay         float64\n",
       "arr_time          float64\n",
       "sched_arr_time      int64\n",
       "arr_delay         float64\n",
       "carrier            object\n",
       "flight              int64\n",
       "tailnum            object\n",
       "origin             object\n",
       "dest               object\n",
       "air_time          float64\n",
       "distance            int64\n",
       "hour                int64\n",
       "minute              int64\n",
       "time_hour          object\n",
       "dtype: object"
      ]
     },
     "execution_count": 6,
     "metadata": {},
     "output_type": "execute_result"
    }
   ],
   "source": [
    "df.dtypes"
   ]
  },
  {
   "cell_type": "markdown",
   "id": "6602690e",
   "metadata": {
    "papermill": {
     "duration": 0.048226,
     "end_time": "2022-02-18T21:46:03.786492",
     "exception": false,
     "start_time": "2022-02-18T21:46:03.738266",
     "status": "completed"
    },
    "tags": []
   },
   "source": [
    "### know the type of every column"
   ]
  },
  {
   "cell_type": "code",
   "execution_count": 7,
   "id": "07f013a5",
   "metadata": {
    "execution": {
     "iopub.execute_input": "2022-02-18T21:46:03.884646Z",
     "iopub.status.busy": "2022-02-18T21:46:03.884002Z",
     "iopub.status.idle": "2022-02-18T21:46:04.063169Z",
     "shell.execute_reply": "2022-02-18T21:46:04.063584Z",
     "shell.execute_reply.started": "2022-02-18T21:43:06.420699Z"
    },
    "papermill": {
     "duration": 0.229584,
     "end_time": "2022-02-18T21:46:04.063789",
     "exception": false,
     "start_time": "2022-02-18T21:46:03.834205",
     "status": "completed"
    },
    "tags": []
   },
   "outputs": [
    {
     "data": {
      "text/html": [
       "<div>\n",
       "<style scoped>\n",
       "    .dataframe tbody tr th:only-of-type {\n",
       "        vertical-align: middle;\n",
       "    }\n",
       "\n",
       "    .dataframe tbody tr th {\n",
       "        vertical-align: top;\n",
       "    }\n",
       "\n",
       "    .dataframe thead th {\n",
       "        text-align: right;\n",
       "    }\n",
       "</style>\n",
       "<table border=\"1\" class=\"dataframe\">\n",
       "  <thead>\n",
       "    <tr style=\"text-align: right;\">\n",
       "      <th></th>\n",
       "      <th>year</th>\n",
       "      <th>month</th>\n",
       "      <th>day</th>\n",
       "      <th>dep_time</th>\n",
       "      <th>sched_dep_time</th>\n",
       "      <th>dep_delay</th>\n",
       "      <th>arr_time</th>\n",
       "      <th>sched_arr_time</th>\n",
       "      <th>arr_delay</th>\n",
       "      <th>flight</th>\n",
       "      <th>air_time</th>\n",
       "      <th>distance</th>\n",
       "      <th>hour</th>\n",
       "      <th>minute</th>\n",
       "    </tr>\n",
       "  </thead>\n",
       "  <tbody>\n",
       "    <tr>\n",
       "      <th>count</th>\n",
       "      <td>336776.0</td>\n",
       "      <td>336776.000000</td>\n",
       "      <td>336776.000000</td>\n",
       "      <td>328521.000000</td>\n",
       "      <td>336776.000000</td>\n",
       "      <td>328521.000000</td>\n",
       "      <td>328063.000000</td>\n",
       "      <td>336776.000000</td>\n",
       "      <td>327346.000000</td>\n",
       "      <td>336776.000000</td>\n",
       "      <td>327346.000000</td>\n",
       "      <td>336776.000000</td>\n",
       "      <td>336776.000000</td>\n",
       "      <td>336776.000000</td>\n",
       "    </tr>\n",
       "    <tr>\n",
       "      <th>mean</th>\n",
       "      <td>2013.0</td>\n",
       "      <td>6.548510</td>\n",
       "      <td>15.710787</td>\n",
       "      <td>1349.109947</td>\n",
       "      <td>1344.254840</td>\n",
       "      <td>12.639070</td>\n",
       "      <td>1502.054999</td>\n",
       "      <td>1536.380220</td>\n",
       "      <td>6.895377</td>\n",
       "      <td>1971.923620</td>\n",
       "      <td>150.686460</td>\n",
       "      <td>1039.912604</td>\n",
       "      <td>13.180247</td>\n",
       "      <td>26.230100</td>\n",
       "    </tr>\n",
       "    <tr>\n",
       "      <th>std</th>\n",
       "      <td>0.0</td>\n",
       "      <td>3.414457</td>\n",
       "      <td>8.768607</td>\n",
       "      <td>488.281791</td>\n",
       "      <td>467.335756</td>\n",
       "      <td>40.210061</td>\n",
       "      <td>533.264132</td>\n",
       "      <td>497.457142</td>\n",
       "      <td>44.633292</td>\n",
       "      <td>1632.471938</td>\n",
       "      <td>93.688305</td>\n",
       "      <td>733.233033</td>\n",
       "      <td>4.661316</td>\n",
       "      <td>19.300846</td>\n",
       "    </tr>\n",
       "    <tr>\n",
       "      <th>min</th>\n",
       "      <td>2013.0</td>\n",
       "      <td>1.000000</td>\n",
       "      <td>1.000000</td>\n",
       "      <td>1.000000</td>\n",
       "      <td>106.000000</td>\n",
       "      <td>-43.000000</td>\n",
       "      <td>1.000000</td>\n",
       "      <td>1.000000</td>\n",
       "      <td>-86.000000</td>\n",
       "      <td>1.000000</td>\n",
       "      <td>20.000000</td>\n",
       "      <td>17.000000</td>\n",
       "      <td>1.000000</td>\n",
       "      <td>0.000000</td>\n",
       "    </tr>\n",
       "    <tr>\n",
       "      <th>25%</th>\n",
       "      <td>2013.0</td>\n",
       "      <td>4.000000</td>\n",
       "      <td>8.000000</td>\n",
       "      <td>907.000000</td>\n",
       "      <td>906.000000</td>\n",
       "      <td>-5.000000</td>\n",
       "      <td>1104.000000</td>\n",
       "      <td>1124.000000</td>\n",
       "      <td>-17.000000</td>\n",
       "      <td>553.000000</td>\n",
       "      <td>82.000000</td>\n",
       "      <td>502.000000</td>\n",
       "      <td>9.000000</td>\n",
       "      <td>8.000000</td>\n",
       "    </tr>\n",
       "    <tr>\n",
       "      <th>50%</th>\n",
       "      <td>2013.0</td>\n",
       "      <td>7.000000</td>\n",
       "      <td>16.000000</td>\n",
       "      <td>1401.000000</td>\n",
       "      <td>1359.000000</td>\n",
       "      <td>-2.000000</td>\n",
       "      <td>1535.000000</td>\n",
       "      <td>1556.000000</td>\n",
       "      <td>-5.000000</td>\n",
       "      <td>1496.000000</td>\n",
       "      <td>129.000000</td>\n",
       "      <td>872.000000</td>\n",
       "      <td>13.000000</td>\n",
       "      <td>29.000000</td>\n",
       "    </tr>\n",
       "    <tr>\n",
       "      <th>75%</th>\n",
       "      <td>2013.0</td>\n",
       "      <td>10.000000</td>\n",
       "      <td>23.000000</td>\n",
       "      <td>1744.000000</td>\n",
       "      <td>1729.000000</td>\n",
       "      <td>11.000000</td>\n",
       "      <td>1940.000000</td>\n",
       "      <td>1945.000000</td>\n",
       "      <td>14.000000</td>\n",
       "      <td>3465.000000</td>\n",
       "      <td>192.000000</td>\n",
       "      <td>1389.000000</td>\n",
       "      <td>17.000000</td>\n",
       "      <td>44.000000</td>\n",
       "    </tr>\n",
       "    <tr>\n",
       "      <th>max</th>\n",
       "      <td>2013.0</td>\n",
       "      <td>12.000000</td>\n",
       "      <td>31.000000</td>\n",
       "      <td>2400.000000</td>\n",
       "      <td>2359.000000</td>\n",
       "      <td>1301.000000</td>\n",
       "      <td>2400.000000</td>\n",
       "      <td>2359.000000</td>\n",
       "      <td>1272.000000</td>\n",
       "      <td>8500.000000</td>\n",
       "      <td>695.000000</td>\n",
       "      <td>4983.000000</td>\n",
       "      <td>23.000000</td>\n",
       "      <td>59.000000</td>\n",
       "    </tr>\n",
       "  </tbody>\n",
       "</table>\n",
       "</div>"
      ],
      "text/plain": [
       "           year          month            day       dep_time  sched_dep_time  \\\n",
       "count  336776.0  336776.000000  336776.000000  328521.000000   336776.000000   \n",
       "mean     2013.0       6.548510      15.710787    1349.109947     1344.254840   \n",
       "std         0.0       3.414457       8.768607     488.281791      467.335756   \n",
       "min      2013.0       1.000000       1.000000       1.000000      106.000000   \n",
       "25%      2013.0       4.000000       8.000000     907.000000      906.000000   \n",
       "50%      2013.0       7.000000      16.000000    1401.000000     1359.000000   \n",
       "75%      2013.0      10.000000      23.000000    1744.000000     1729.000000   \n",
       "max      2013.0      12.000000      31.000000    2400.000000     2359.000000   \n",
       "\n",
       "           dep_delay       arr_time  sched_arr_time      arr_delay  \\\n",
       "count  328521.000000  328063.000000   336776.000000  327346.000000   \n",
       "mean       12.639070    1502.054999     1536.380220       6.895377   \n",
       "std        40.210061     533.264132      497.457142      44.633292   \n",
       "min       -43.000000       1.000000        1.000000     -86.000000   \n",
       "25%        -5.000000    1104.000000     1124.000000     -17.000000   \n",
       "50%        -2.000000    1535.000000     1556.000000      -5.000000   \n",
       "75%        11.000000    1940.000000     1945.000000      14.000000   \n",
       "max      1301.000000    2400.000000     2359.000000    1272.000000   \n",
       "\n",
       "              flight       air_time       distance           hour  \\\n",
       "count  336776.000000  327346.000000  336776.000000  336776.000000   \n",
       "mean     1971.923620     150.686460    1039.912604      13.180247   \n",
       "std      1632.471938      93.688305     733.233033       4.661316   \n",
       "min         1.000000      20.000000      17.000000       1.000000   \n",
       "25%       553.000000      82.000000     502.000000       9.000000   \n",
       "50%      1496.000000     129.000000     872.000000      13.000000   \n",
       "75%      3465.000000     192.000000    1389.000000      17.000000   \n",
       "max      8500.000000     695.000000    4983.000000      23.000000   \n",
       "\n",
       "              minute  \n",
       "count  336776.000000  \n",
       "mean       26.230100  \n",
       "std        19.300846  \n",
       "min         0.000000  \n",
       "25%         8.000000  \n",
       "50%        29.000000  \n",
       "75%        44.000000  \n",
       "max        59.000000  "
      ]
     },
     "execution_count": 7,
     "metadata": {},
     "output_type": "execute_result"
    }
   ],
   "source": [
    "df.describe()"
   ]
  },
  {
   "cell_type": "markdown",
   "id": "25cb2ab2",
   "metadata": {
    "papermill": {
     "duration": 0.04819,
     "end_time": "2022-02-18T21:46:04.160861",
     "exception": false,
     "start_time": "2022-02-18T21:46:04.112671",
     "status": "completed"
    },
    "tags": []
   },
   "source": [
    "### Descriptive stats for our data"
   ]
  },
  {
   "cell_type": "code",
   "execution_count": 8,
   "id": "ad5dac0b",
   "metadata": {
    "execution": {
     "iopub.execute_input": "2022-02-18T21:46:04.259393Z",
     "iopub.status.busy": "2022-02-18T21:46:04.258839Z",
     "iopub.status.idle": "2022-02-18T21:46:04.341055Z",
     "shell.execute_reply": "2022-02-18T21:46:04.341494Z",
     "shell.execute_reply.started": "2022-02-18T21:43:06.620412Z"
    },
    "papermill": {
     "duration": 0.133141,
     "end_time": "2022-02-18T21:46:04.341714",
     "exception": false,
     "start_time": "2022-02-18T21:46:04.208573",
     "status": "completed"
    },
    "tags": []
   },
   "outputs": [
    {
     "data": {
      "text/plain": [
       "year                 0\n",
       "month                0\n",
       "day                  0\n",
       "dep_time          8255\n",
       "sched_dep_time       0\n",
       "dep_delay         8255\n",
       "arr_time          8713\n",
       "sched_arr_time       0\n",
       "arr_delay         9430\n",
       "carrier              0\n",
       "flight               0\n",
       "tailnum           2512\n",
       "origin               0\n",
       "dest                 0\n",
       "air_time          9430\n",
       "distance             0\n",
       "hour                 0\n",
       "minute               0\n",
       "time_hour            0\n",
       "dtype: int64"
      ]
     },
     "execution_count": 8,
     "metadata": {},
     "output_type": "execute_result"
    }
   ],
   "source": [
    "df.isna().sum()"
   ]
  },
  {
   "cell_type": "markdown",
   "id": "60af33c2",
   "metadata": {
    "papermill": {
     "duration": 0.047416,
     "end_time": "2022-02-18T21:46:04.436964",
     "exception": false,
     "start_time": "2022-02-18T21:46:04.389548",
     "status": "completed"
    },
    "tags": []
   },
   "source": [
    "### Check if there is missing data"
   ]
  },
  {
   "cell_type": "code",
   "execution_count": 9,
   "id": "82bda51a",
   "metadata": {
    "execution": {
     "iopub.execute_input": "2022-02-18T21:46:04.536871Z",
     "iopub.status.busy": "2022-02-18T21:46:04.536223Z",
     "iopub.status.idle": "2022-02-18T21:46:04.839534Z",
     "shell.execute_reply": "2022-02-18T21:46:04.839977Z",
     "shell.execute_reply.started": "2022-02-18T21:43:06.816988Z"
    },
    "papermill": {
     "duration": 0.354957,
     "end_time": "2022-02-18T21:46:04.840159",
     "exception": false,
     "start_time": "2022-02-18T21:46:04.485202",
     "status": "completed"
    },
    "tags": []
   },
   "outputs": [
    {
     "data": {
      "text/plain": [
       "0"
      ]
     },
     "execution_count": 9,
     "metadata": {},
     "output_type": "execute_result"
    }
   ],
   "source": [
    "df.duplicated().sum()"
   ]
  },
  {
   "cell_type": "markdown",
   "id": "ac470c38",
   "metadata": {
    "papermill": {
     "duration": 0.04952,
     "end_time": "2022-02-18T21:46:04.939701",
     "exception": false,
     "start_time": "2022-02-18T21:46:04.890181",
     "status": "completed"
    },
    "tags": []
   },
   "source": [
    "### we do not have any deuplicated rows "
   ]
  },
  {
   "cell_type": "code",
   "execution_count": 10,
   "id": "39be69d8",
   "metadata": {
    "execution": {
     "iopub.execute_input": "2022-02-18T21:46:05.041597Z",
     "iopub.status.busy": "2022-02-18T21:46:05.041007Z",
     "iopub.status.idle": "2022-02-18T21:46:05.186634Z",
     "shell.execute_reply": "2022-02-18T21:46:05.186130Z",
     "shell.execute_reply.started": "2022-02-18T21:43:07.148506Z"
    },
    "papermill": {
     "duration": 0.198311,
     "end_time": "2022-02-18T21:46:05.186782",
     "exception": false,
     "start_time": "2022-02-18T21:46:04.988471",
     "status": "completed"
    },
    "tags": []
   },
   "outputs": [
    {
     "data": {
      "text/html": [
       "<div>\n",
       "<style scoped>\n",
       "    .dataframe tbody tr th:only-of-type {\n",
       "        vertical-align: middle;\n",
       "    }\n",
       "\n",
       "    .dataframe tbody tr th {\n",
       "        vertical-align: top;\n",
       "    }\n",
       "\n",
       "    .dataframe thead th {\n",
       "        text-align: right;\n",
       "    }\n",
       "</style>\n",
       "<table border=\"1\" class=\"dataframe\">\n",
       "  <thead>\n",
       "    <tr style=\"text-align: right;\">\n",
       "      <th></th>\n",
       "      <th>Count</th>\n",
       "    </tr>\n",
       "  </thead>\n",
       "  <tbody>\n",
       "    <tr>\n",
       "      <th>year</th>\n",
       "      <td>1</td>\n",
       "    </tr>\n",
       "    <tr>\n",
       "      <th>month</th>\n",
       "      <td>12</td>\n",
       "    </tr>\n",
       "    <tr>\n",
       "      <th>day</th>\n",
       "      <td>31</td>\n",
       "    </tr>\n",
       "    <tr>\n",
       "      <th>dep_time</th>\n",
       "      <td>1318</td>\n",
       "    </tr>\n",
       "    <tr>\n",
       "      <th>sched_dep_time</th>\n",
       "      <td>1021</td>\n",
       "    </tr>\n",
       "    <tr>\n",
       "      <th>dep_delay</th>\n",
       "      <td>527</td>\n",
       "    </tr>\n",
       "    <tr>\n",
       "      <th>arr_time</th>\n",
       "      <td>1411</td>\n",
       "    </tr>\n",
       "    <tr>\n",
       "      <th>sched_arr_time</th>\n",
       "      <td>1163</td>\n",
       "    </tr>\n",
       "    <tr>\n",
       "      <th>arr_delay</th>\n",
       "      <td>577</td>\n",
       "    </tr>\n",
       "    <tr>\n",
       "      <th>carrier</th>\n",
       "      <td>16</td>\n",
       "    </tr>\n",
       "    <tr>\n",
       "      <th>flight</th>\n",
       "      <td>3844</td>\n",
       "    </tr>\n",
       "    <tr>\n",
       "      <th>tailnum</th>\n",
       "      <td>4043</td>\n",
       "    </tr>\n",
       "    <tr>\n",
       "      <th>origin</th>\n",
       "      <td>3</td>\n",
       "    </tr>\n",
       "    <tr>\n",
       "      <th>dest</th>\n",
       "      <td>105</td>\n",
       "    </tr>\n",
       "    <tr>\n",
       "      <th>air_time</th>\n",
       "      <td>509</td>\n",
       "    </tr>\n",
       "    <tr>\n",
       "      <th>distance</th>\n",
       "      <td>214</td>\n",
       "    </tr>\n",
       "    <tr>\n",
       "      <th>hour</th>\n",
       "      <td>20</td>\n",
       "    </tr>\n",
       "    <tr>\n",
       "      <th>minute</th>\n",
       "      <td>60</td>\n",
       "    </tr>\n",
       "    <tr>\n",
       "      <th>time_hour</th>\n",
       "      <td>6936</td>\n",
       "    </tr>\n",
       "  </tbody>\n",
       "</table>\n",
       "</div>"
      ],
      "text/plain": [
       "                Count\n",
       "year                1\n",
       "month              12\n",
       "day                31\n",
       "dep_time         1318\n",
       "sched_dep_time   1021\n",
       "dep_delay         527\n",
       "arr_time         1411\n",
       "sched_arr_time   1163\n",
       "arr_delay         577\n",
       "carrier            16\n",
       "flight           3844\n",
       "tailnum          4043\n",
       "origin              3\n",
       "dest              105\n",
       "air_time          509\n",
       "distance          214\n",
       "hour               20\n",
       "minute             60\n",
       "time_hour        6936"
      ]
     },
     "execution_count": 10,
     "metadata": {},
     "output_type": "execute_result"
    }
   ],
   "source": [
    "df.nunique().to_frame().rename(columns={0:'Count'})"
   ]
  },
  {
   "cell_type": "markdown",
   "id": "ba13ab00",
   "metadata": {
    "papermill": {
     "duration": 0.049316,
     "end_time": "2022-02-18T21:46:05.285802",
     "exception": false,
     "start_time": "2022-02-18T21:46:05.236486",
     "status": "completed"
    },
    "tags": []
   },
   "source": [
    "### check the uniqueness of our columns row"
   ]
  },
  {
   "cell_type": "code",
   "execution_count": 11,
   "id": "ebf053cf",
   "metadata": {
    "execution": {
     "iopub.execute_input": "2022-02-18T21:46:05.402788Z",
     "iopub.status.busy": "2022-02-18T21:46:05.402171Z",
     "iopub.status.idle": "2022-02-18T21:46:05.409871Z",
     "shell.execute_reply": "2022-02-18T21:46:05.410279Z",
     "shell.execute_reply.started": "2022-02-18T21:43:07.348980Z"
    },
    "papermill": {
     "duration": 0.075019,
     "end_time": "2022-02-18T21:46:05.410448",
     "exception": false,
     "start_time": "2022-02-18T21:46:05.335429",
     "status": "completed"
    },
    "tags": []
   },
   "outputs": [
    {
     "data": {
      "text/plain": [
       "array(['UA', 'AA', 'B6', 'DL', 'EV', 'MQ', 'US', 'WN', 'VX', 'FL', 'AS',\n",
       "       '9E', 'F9', 'HA', 'YV', 'OO'], dtype=object)"
      ]
     },
     "execution_count": 11,
     "metadata": {},
     "output_type": "execute_result"
    }
   ],
   "source": [
    "df['carrier'].unique()"
   ]
  },
  {
   "cell_type": "markdown",
   "id": "57fa5d15",
   "metadata": {
    "papermill": {
     "duration": 0.048732,
     "end_time": "2022-02-18T21:46:05.508580",
     "exception": false,
     "start_time": "2022-02-18T21:46:05.459848",
     "status": "completed"
    },
    "tags": []
   },
   "source": [
    "### know how many carriers that we have in our dataset "
   ]
  },
  {
   "cell_type": "code",
   "execution_count": 12,
   "id": "f10459ea",
   "metadata": {
    "execution": {
     "iopub.execute_input": "2022-02-18T21:46:05.609810Z",
     "iopub.status.busy": "2022-02-18T21:46:05.609225Z",
     "iopub.status.idle": "2022-02-18T21:46:05.615975Z",
     "shell.execute_reply": "2022-02-18T21:46:05.616500Z",
     "shell.execute_reply.started": "2022-02-18T21:43:07.381831Z"
    },
    "papermill": {
     "duration": 0.059364,
     "end_time": "2022-02-18T21:46:05.616673",
     "exception": false,
     "start_time": "2022-02-18T21:46:05.557309",
     "status": "completed"
    },
    "tags": []
   },
   "outputs": [
    {
     "data": {
      "text/plain": [
       "array([2013])"
      ]
     },
     "execution_count": 12,
     "metadata": {},
     "output_type": "execute_result"
    }
   ],
   "source": [
    "df['year'].unique()"
   ]
  },
  {
   "cell_type": "code",
   "execution_count": 13,
   "id": "711aefea",
   "metadata": {
    "execution": {
     "iopub.execute_input": "2022-02-18T21:46:05.719798Z",
     "iopub.status.busy": "2022-02-18T21:46:05.719186Z",
     "iopub.status.idle": "2022-02-18T21:46:05.732781Z",
     "shell.execute_reply": "2022-02-18T21:46:05.733245Z",
     "shell.execute_reply.started": "2022-02-18T21:43:07.394027Z"
    },
    "papermill": {
     "duration": 0.0659,
     "end_time": "2022-02-18T21:46:05.733420",
     "exception": false,
     "start_time": "2022-02-18T21:46:05.667520",
     "status": "completed"
    },
    "tags": []
   },
   "outputs": [
    {
     "data": {
      "text/plain": [
       "count    336776.000000\n",
       "mean         15.710787\n",
       "std           8.768607\n",
       "min           1.000000\n",
       "25%           8.000000\n",
       "50%          16.000000\n",
       "75%          23.000000\n",
       "max          31.000000\n",
       "Name: day, dtype: float64"
      ]
     },
     "execution_count": 13,
     "metadata": {},
     "output_type": "execute_result"
    }
   ],
   "source": [
    "df.day.describe()"
   ]
  },
  {
   "cell_type": "code",
   "execution_count": 14,
   "id": "e625f0a6",
   "metadata": {
    "execution": {
     "iopub.execute_input": "2022-02-18T21:46:05.836271Z",
     "iopub.status.busy": "2022-02-18T21:46:05.835673Z",
     "iopub.status.idle": "2022-02-18T21:46:05.863426Z",
     "shell.execute_reply": "2022-02-18T21:46:05.862919Z",
     "shell.execute_reply.started": "2022-02-18T21:43:07.413351Z"
    },
    "papermill": {
     "duration": 0.08023,
     "end_time": "2022-02-18T21:46:05.863569",
     "exception": false,
     "start_time": "2022-02-18T21:46:05.783339",
     "status": "completed"
    },
    "tags": []
   },
   "outputs": [
    {
     "name": "stdout",
     "output_type": "stream",
     "text": [
      "UA    58665\n",
      "B6    54635\n",
      "EV    54173\n",
      "DL    48110\n",
      "AA    32729\n",
      "MQ    26397\n",
      "US    20536\n",
      "9E    18460\n",
      "WN    12275\n",
      "VX     5162\n",
      "FL     3260\n",
      "AS      714\n",
      "F9      685\n",
      "YV      601\n",
      "HA      342\n",
      "OO       32\n",
      "Name: carrier, dtype: int64\n"
     ]
    }
   ],
   "source": [
    "print(df['carrier'].value_counts())"
   ]
  },
  {
   "cell_type": "code",
   "execution_count": 15,
   "id": "a116e1be",
   "metadata": {
    "execution": {
     "iopub.execute_input": "2022-02-18T21:46:05.971943Z",
     "iopub.status.busy": "2022-02-18T21:46:05.971303Z",
     "iopub.status.idle": "2022-02-18T21:46:05.974146Z",
     "shell.execute_reply": "2022-02-18T21:46:05.973563Z",
     "shell.execute_reply.started": "2022-02-18T21:43:07.473487Z"
    },
    "papermill": {
     "duration": 0.060506,
     "end_time": "2022-02-18T21:46:05.974274",
     "exception": false,
     "start_time": "2022-02-18T21:46:05.913768",
     "status": "completed"
    },
    "tags": []
   },
   "outputs": [
    {
     "name": "stdout",
     "output_type": "stream",
     "text": [
      "['WN: Southwest Airlines', 'AA: American Airlines', 'MQ: American Eagle Airlines', 'UA: United Airlines', 'OO: Skywest Airlines', 'DL: Delta Airlines', 'US: US Airways', 'EV: Atlantic Southeast Airlines', 'FL: AirTran Airways', 'YV: Mesa Airlines', 'B6: JetBlue Airways', '9E: Pinnacle Airlines', 'AS: Alaska Airlines', 'F9: Frontier Airlines', 'HA: Hawaiian Airlines']\n"
     ]
    }
   ],
   "source": [
    "print(['WN: Southwest Airlines', 'AA: American Airlines', 'MQ: American Eagle Airlines', 'UA: United Airlines',\n",
    "       'OO: Skywest Airlines','DL: Delta Airlines','US: US Airways',\n",
    "       'EV: Atlantic Southeast Airlines','FL: AirTran Airways','YV: Mesa Airlines', \n",
    "       'B6: JetBlue Airways','9E: Pinnacle Airlines','AS: Alaska Airlines','F9: Frontier Airlines',\n",
    "       'HA: Hawaiian Airlines'])"
   ]
  },
  {
   "cell_type": "markdown",
   "id": "1c87aa7d",
   "metadata": {
    "papermill": {
     "duration": 0.050473,
     "end_time": "2022-02-18T21:46:06.076534",
     "exception": false,
     "start_time": "2022-02-18T21:46:06.026061",
     "status": "completed"
    },
    "tags": []
   },
   "source": [
    "### every airline and its frequency journies"
   ]
  },
  {
   "cell_type": "markdown",
   "id": "ca6cf9c2",
   "metadata": {
    "papermill": {
     "duration": 0.050104,
     "end_time": "2022-02-18T21:46:06.177389",
     "exception": false,
     "start_time": "2022-02-18T21:46:06.127285",
     "status": "completed"
    },
    "tags": []
   },
   "source": [
    "# Data cleaning"
   ]
  },
  {
   "cell_type": "markdown",
   "id": "b0fceeb6",
   "metadata": {
    "papermill": {
     "duration": 0.050072,
     "end_time": "2022-02-18T21:46:06.278026",
     "exception": false,
     "start_time": "2022-02-18T21:46:06.227954",
     "status": "completed"
    },
    "tags": []
   },
   "source": [
    "### see the missing data"
   ]
  },
  {
   "cell_type": "code",
   "execution_count": 16,
   "id": "c7659a9e",
   "metadata": {
    "execution": {
     "iopub.execute_input": "2022-02-18T21:46:06.383888Z",
     "iopub.status.busy": "2022-02-18T21:46:06.383313Z",
     "iopub.status.idle": "2022-02-18T21:46:06.473209Z",
     "shell.execute_reply": "2022-02-18T21:46:06.472722Z",
     "shell.execute_reply.started": "2022-02-18T21:43:07.487406Z"
    },
    "papermill": {
     "duration": 0.144495,
     "end_time": "2022-02-18T21:46:06.473353",
     "exception": false,
     "start_time": "2022-02-18T21:46:06.328858",
     "status": "completed"
    },
    "tags": []
   },
   "outputs": [
    {
     "data": {
      "text/html": [
       "<div>\n",
       "<style scoped>\n",
       "    .dataframe tbody tr th:only-of-type {\n",
       "        vertical-align: middle;\n",
       "    }\n",
       "\n",
       "    .dataframe tbody tr th {\n",
       "        vertical-align: top;\n",
       "    }\n",
       "\n",
       "    .dataframe thead th {\n",
       "        text-align: right;\n",
       "    }\n",
       "</style>\n",
       "<table border=\"1\" class=\"dataframe\">\n",
       "  <thead>\n",
       "    <tr style=\"text-align: right;\">\n",
       "      <th></th>\n",
       "      <th>variable</th>\n",
       "      <th>missing values</th>\n",
       "      <th>filling factor (%)</th>\n",
       "    </tr>\n",
       "  </thead>\n",
       "  <tbody>\n",
       "    <tr>\n",
       "      <th>0</th>\n",
       "      <td>air_time</td>\n",
       "      <td>9430</td>\n",
       "      <td>97.199919</td>\n",
       "    </tr>\n",
       "    <tr>\n",
       "      <th>1</th>\n",
       "      <td>arr_delay</td>\n",
       "      <td>9430</td>\n",
       "      <td>97.199919</td>\n",
       "    </tr>\n",
       "    <tr>\n",
       "      <th>2</th>\n",
       "      <td>arr_time</td>\n",
       "      <td>8713</td>\n",
       "      <td>97.412820</td>\n",
       "    </tr>\n",
       "    <tr>\n",
       "      <th>3</th>\n",
       "      <td>dep_time</td>\n",
       "      <td>8255</td>\n",
       "      <td>97.548816</td>\n",
       "    </tr>\n",
       "    <tr>\n",
       "      <th>4</th>\n",
       "      <td>dep_delay</td>\n",
       "      <td>8255</td>\n",
       "      <td>97.548816</td>\n",
       "    </tr>\n",
       "    <tr>\n",
       "      <th>5</th>\n",
       "      <td>tailnum</td>\n",
       "      <td>2512</td>\n",
       "      <td>99.254104</td>\n",
       "    </tr>\n",
       "    <tr>\n",
       "      <th>6</th>\n",
       "      <td>year</td>\n",
       "      <td>0</td>\n",
       "      <td>100.000000</td>\n",
       "    </tr>\n",
       "    <tr>\n",
       "      <th>7</th>\n",
       "      <td>hour</td>\n",
       "      <td>0</td>\n",
       "      <td>100.000000</td>\n",
       "    </tr>\n",
       "    <tr>\n",
       "      <th>8</th>\n",
       "      <td>distance</td>\n",
       "      <td>0</td>\n",
       "      <td>100.000000</td>\n",
       "    </tr>\n",
       "    <tr>\n",
       "      <th>9</th>\n",
       "      <td>dest</td>\n",
       "      <td>0</td>\n",
       "      <td>100.000000</td>\n",
       "    </tr>\n",
       "    <tr>\n",
       "      <th>10</th>\n",
       "      <td>origin</td>\n",
       "      <td>0</td>\n",
       "      <td>100.000000</td>\n",
       "    </tr>\n",
       "    <tr>\n",
       "      <th>11</th>\n",
       "      <td>carrier</td>\n",
       "      <td>0</td>\n",
       "      <td>100.000000</td>\n",
       "    </tr>\n",
       "    <tr>\n",
       "      <th>12</th>\n",
       "      <td>minute</td>\n",
       "      <td>0</td>\n",
       "      <td>100.000000</td>\n",
       "    </tr>\n",
       "    <tr>\n",
       "      <th>13</th>\n",
       "      <td>sched_arr_time</td>\n",
       "      <td>0</td>\n",
       "      <td>100.000000</td>\n",
       "    </tr>\n",
       "    <tr>\n",
       "      <th>14</th>\n",
       "      <td>sched_dep_time</td>\n",
       "      <td>0</td>\n",
       "      <td>100.000000</td>\n",
       "    </tr>\n",
       "    <tr>\n",
       "      <th>15</th>\n",
       "      <td>day</td>\n",
       "      <td>0</td>\n",
       "      <td>100.000000</td>\n",
       "    </tr>\n",
       "    <tr>\n",
       "      <th>16</th>\n",
       "      <td>month</td>\n",
       "      <td>0</td>\n",
       "      <td>100.000000</td>\n",
       "    </tr>\n",
       "    <tr>\n",
       "      <th>17</th>\n",
       "      <td>flight</td>\n",
       "      <td>0</td>\n",
       "      <td>100.000000</td>\n",
       "    </tr>\n",
       "    <tr>\n",
       "      <th>18</th>\n",
       "      <td>time_hour</td>\n",
       "      <td>0</td>\n",
       "      <td>100.000000</td>\n",
       "    </tr>\n",
       "  </tbody>\n",
       "</table>\n",
       "</div>"
      ],
      "text/plain": [
       "          variable  missing values  filling factor (%)\n",
       "0         air_time            9430           97.199919\n",
       "1        arr_delay            9430           97.199919\n",
       "2         arr_time            8713           97.412820\n",
       "3         dep_time            8255           97.548816\n",
       "4        dep_delay            8255           97.548816\n",
       "5          tailnum            2512           99.254104\n",
       "6             year               0          100.000000\n",
       "7             hour               0          100.000000\n",
       "8         distance               0          100.000000\n",
       "9             dest               0          100.000000\n",
       "10          origin               0          100.000000\n",
       "11         carrier               0          100.000000\n",
       "12          minute               0          100.000000\n",
       "13  sched_arr_time               0          100.000000\n",
       "14  sched_dep_time               0          100.000000\n",
       "15             day               0          100.000000\n",
       "16           month               0          100.000000\n",
       "17          flight               0          100.000000\n",
       "18       time_hour               0          100.000000"
      ]
     },
     "execution_count": 16,
     "metadata": {},
     "output_type": "execute_result"
    }
   ],
   "source": [
    "missing_data = df.isnull().sum(axis=0).reset_index()\n",
    "missing_data.columns = ['variable', 'missing values']\n",
    "missing_data['filling factor (%)']=(df.shape[0]-missing_data['missing values'])/df.shape[0]*100\n",
    "missing_data.sort_values('filling factor (%)').reset_index(drop = True)"
   ]
  },
  {
   "cell_type": "markdown",
   "id": "6b039519",
   "metadata": {
    "papermill": {
     "duration": 0.051006,
     "end_time": "2022-02-18T21:46:06.575041",
     "exception": false,
     "start_time": "2022-02-18T21:46:06.524035",
     "status": "completed"
    },
    "tags": []
   },
   "source": [
    "### we see that those columns (air_time, arr_delay, arr_time, dep_time,dep_delay) have some missing data that we must handel"
   ]
  },
  {
   "cell_type": "code",
   "execution_count": 17,
   "id": "5312a5ff",
   "metadata": {
    "execution": {
     "iopub.execute_input": "2022-02-18T21:46:06.683775Z",
     "iopub.status.busy": "2022-02-18T21:46:06.683174Z",
     "iopub.status.idle": "2022-02-18T21:46:06.791539Z",
     "shell.execute_reply": "2022-02-18T21:46:06.791013Z",
     "shell.execute_reply.started": "2022-02-18T21:43:07.694049Z"
    },
    "papermill": {
     "duration": 0.165908,
     "end_time": "2022-02-18T21:46:06.791744",
     "exception": false,
     "start_time": "2022-02-18T21:46:06.625836",
     "status": "completed"
    },
    "tags": []
   },
   "outputs": [],
   "source": [
    "df=df.dropna()"
   ]
  },
  {
   "cell_type": "markdown",
   "id": "7a24f013",
   "metadata": {
    "papermill": {
     "duration": 0.050991,
     "end_time": "2022-02-18T21:46:06.893579",
     "exception": false,
     "start_time": "2022-02-18T21:46:06.842588",
     "status": "completed"
    },
    "tags": []
   },
   "source": [
    "### remove any row with at least one missing value"
   ]
  },
  {
   "cell_type": "code",
   "execution_count": 18,
   "id": "4b75bb01",
   "metadata": {
    "execution": {
     "iopub.execute_input": "2022-02-18T21:46:07.001148Z",
     "iopub.status.busy": "2022-02-18T21:46:07.000415Z",
     "iopub.status.idle": "2022-02-18T21:46:07.081823Z",
     "shell.execute_reply": "2022-02-18T21:46:07.081334Z",
     "shell.execute_reply.started": "2022-02-18T21:43:07.916010Z"
    },
    "papermill": {
     "duration": 0.136234,
     "end_time": "2022-02-18T21:46:07.081969",
     "exception": false,
     "start_time": "2022-02-18T21:46:06.945735",
     "status": "completed"
    },
    "tags": []
   },
   "outputs": [
    {
     "data": {
      "text/plain": [
       "year              0\n",
       "month             0\n",
       "day               0\n",
       "dep_time          0\n",
       "sched_dep_time    0\n",
       "dep_delay         0\n",
       "arr_time          0\n",
       "sched_arr_time    0\n",
       "arr_delay         0\n",
       "carrier           0\n",
       "flight            0\n",
       "tailnum           0\n",
       "origin            0\n",
       "dest              0\n",
       "air_time          0\n",
       "distance          0\n",
       "hour              0\n",
       "minute            0\n",
       "time_hour         0\n",
       "dtype: int64"
      ]
     },
     "execution_count": 18,
     "metadata": {},
     "output_type": "execute_result"
    }
   ],
   "source": [
    "df.isna().sum()"
   ]
  },
  {
   "cell_type": "markdown",
   "id": "61a9d43d",
   "metadata": {
    "papermill": {
     "duration": 0.05095,
     "end_time": "2022-02-18T21:46:07.185819",
     "exception": false,
     "start_time": "2022-02-18T21:46:07.134869",
     "status": "completed"
    },
    "tags": []
   },
   "source": [
    "###  now no nulls"
   ]
  },
  {
   "cell_type": "code",
   "execution_count": 19,
   "id": "9b8275f8",
   "metadata": {
    "execution": {
     "iopub.execute_input": "2022-02-18T21:46:07.294032Z",
     "iopub.status.busy": "2022-02-18T21:46:07.293404Z",
     "iopub.status.idle": "2022-02-18T21:46:11.250497Z",
     "shell.execute_reply": "2022-02-18T21:46:11.249945Z",
     "shell.execute_reply.started": "2022-02-18T21:43:08.107898Z"
    },
    "papermill": {
     "duration": 4.013681,
     "end_time": "2022-02-18T21:46:11.250660",
     "exception": false,
     "start_time": "2022-02-18T21:46:07.236979",
     "status": "completed"
    },
    "tags": []
   },
   "outputs": [],
   "source": [
    "cols=[\"day\",\"month\",\"year\"]\n",
    "df['date'] = df[cols].apply(lambda x: '-'.join(x.values.astype(str)), axis=\"columns\")"
   ]
  },
  {
   "cell_type": "markdown",
   "id": "eb036eb8",
   "metadata": {
    "papermill": {
     "duration": 0.052241,
     "end_time": "2022-02-18T21:46:11.356536",
     "exception": false,
     "start_time": "2022-02-18T21:46:11.304295",
     "status": "completed"
    },
    "tags": []
   },
   "source": [
    "### join the coulmns day month year  to one colmun to be the date of our data"
   ]
  },
  {
   "cell_type": "markdown",
   "id": "4d1a89c5",
   "metadata": {
    "papermill": {
     "duration": 0.051686,
     "end_time": "2022-02-18T21:46:11.461142",
     "exception": false,
     "start_time": "2022-02-18T21:46:11.409456",
     "status": "completed"
    },
    "tags": []
   },
   "source": [
    "### Setting the Frequency"
   ]
  },
  {
   "cell_type": "code",
   "execution_count": 20,
   "id": "878fc944",
   "metadata": {
    "execution": {
     "iopub.execute_input": "2022-02-18T21:46:11.567319Z",
     "iopub.status.busy": "2022-02-18T21:46:11.566712Z",
     "iopub.status.idle": "2022-02-18T21:46:11.585567Z",
     "shell.execute_reply": "2022-02-18T21:46:11.586113Z",
     "shell.execute_reply.started": "2022-02-18T21:43:13.968637Z"
    },
    "papermill": {
     "duration": 0.073443,
     "end_time": "2022-02-18T21:46:11.586283",
     "exception": false,
     "start_time": "2022-02-18T21:46:11.512840",
     "status": "completed"
    },
    "tags": []
   },
   "outputs": [
    {
     "data": {
      "text/html": [
       "<div>\n",
       "<style scoped>\n",
       "    .dataframe tbody tr th:only-of-type {\n",
       "        vertical-align: middle;\n",
       "    }\n",
       "\n",
       "    .dataframe tbody tr th {\n",
       "        vertical-align: top;\n",
       "    }\n",
       "\n",
       "    .dataframe thead th {\n",
       "        text-align: right;\n",
       "    }\n",
       "</style>\n",
       "<table border=\"1\" class=\"dataframe\">\n",
       "  <thead>\n",
       "    <tr style=\"text-align: right;\">\n",
       "      <th></th>\n",
       "      <th>year</th>\n",
       "      <th>month</th>\n",
       "      <th>day</th>\n",
       "      <th>dep_time</th>\n",
       "      <th>sched_dep_time</th>\n",
       "      <th>dep_delay</th>\n",
       "      <th>arr_time</th>\n",
       "      <th>sched_arr_time</th>\n",
       "      <th>arr_delay</th>\n",
       "      <th>carrier</th>\n",
       "      <th>flight</th>\n",
       "      <th>tailnum</th>\n",
       "      <th>origin</th>\n",
       "      <th>dest</th>\n",
       "      <th>air_time</th>\n",
       "      <th>distance</th>\n",
       "      <th>hour</th>\n",
       "      <th>minute</th>\n",
       "      <th>time_hour</th>\n",
       "    </tr>\n",
       "    <tr>\n",
       "      <th>date</th>\n",
       "      <th></th>\n",
       "      <th></th>\n",
       "      <th></th>\n",
       "      <th></th>\n",
       "      <th></th>\n",
       "      <th></th>\n",
       "      <th></th>\n",
       "      <th></th>\n",
       "      <th></th>\n",
       "      <th></th>\n",
       "      <th></th>\n",
       "      <th></th>\n",
       "      <th></th>\n",
       "      <th></th>\n",
       "      <th></th>\n",
       "      <th></th>\n",
       "      <th></th>\n",
       "      <th></th>\n",
       "      <th></th>\n",
       "    </tr>\n",
       "  </thead>\n",
       "  <tbody>\n",
       "    <tr>\n",
       "      <th>1-1-2013</th>\n",
       "      <td>2013</td>\n",
       "      <td>1</td>\n",
       "      <td>1</td>\n",
       "      <td>517.0</td>\n",
       "      <td>515</td>\n",
       "      <td>2.0</td>\n",
       "      <td>830.0</td>\n",
       "      <td>819</td>\n",
       "      <td>11.0</td>\n",
       "      <td>UA</td>\n",
       "      <td>1545</td>\n",
       "      <td>N14228</td>\n",
       "      <td>EWR</td>\n",
       "      <td>IAH</td>\n",
       "      <td>227.0</td>\n",
       "      <td>1400</td>\n",
       "      <td>5</td>\n",
       "      <td>15</td>\n",
       "      <td>2013-01-01T10:00:00Z</td>\n",
       "    </tr>\n",
       "    <tr>\n",
       "      <th>1-1-2013</th>\n",
       "      <td>2013</td>\n",
       "      <td>1</td>\n",
       "      <td>1</td>\n",
       "      <td>533.0</td>\n",
       "      <td>529</td>\n",
       "      <td>4.0</td>\n",
       "      <td>850.0</td>\n",
       "      <td>830</td>\n",
       "      <td>20.0</td>\n",
       "      <td>UA</td>\n",
       "      <td>1714</td>\n",
       "      <td>N24211</td>\n",
       "      <td>LGA</td>\n",
       "      <td>IAH</td>\n",
       "      <td>227.0</td>\n",
       "      <td>1416</td>\n",
       "      <td>5</td>\n",
       "      <td>29</td>\n",
       "      <td>2013-01-01T10:00:00Z</td>\n",
       "    </tr>\n",
       "    <tr>\n",
       "      <th>1-1-2013</th>\n",
       "      <td>2013</td>\n",
       "      <td>1</td>\n",
       "      <td>1</td>\n",
       "      <td>542.0</td>\n",
       "      <td>540</td>\n",
       "      <td>2.0</td>\n",
       "      <td>923.0</td>\n",
       "      <td>850</td>\n",
       "      <td>33.0</td>\n",
       "      <td>AA</td>\n",
       "      <td>1141</td>\n",
       "      <td>N619AA</td>\n",
       "      <td>JFK</td>\n",
       "      <td>MIA</td>\n",
       "      <td>160.0</td>\n",
       "      <td>1089</td>\n",
       "      <td>5</td>\n",
       "      <td>40</td>\n",
       "      <td>2013-01-01T10:00:00Z</td>\n",
       "    </tr>\n",
       "    <tr>\n",
       "      <th>1-1-2013</th>\n",
       "      <td>2013</td>\n",
       "      <td>1</td>\n",
       "      <td>1</td>\n",
       "      <td>544.0</td>\n",
       "      <td>545</td>\n",
       "      <td>-1.0</td>\n",
       "      <td>1004.0</td>\n",
       "      <td>1022</td>\n",
       "      <td>-18.0</td>\n",
       "      <td>B6</td>\n",
       "      <td>725</td>\n",
       "      <td>N804JB</td>\n",
       "      <td>JFK</td>\n",
       "      <td>BQN</td>\n",
       "      <td>183.0</td>\n",
       "      <td>1576</td>\n",
       "      <td>5</td>\n",
       "      <td>45</td>\n",
       "      <td>2013-01-01T10:00:00Z</td>\n",
       "    </tr>\n",
       "    <tr>\n",
       "      <th>1-1-2013</th>\n",
       "      <td>2013</td>\n",
       "      <td>1</td>\n",
       "      <td>1</td>\n",
       "      <td>554.0</td>\n",
       "      <td>600</td>\n",
       "      <td>-6.0</td>\n",
       "      <td>812.0</td>\n",
       "      <td>837</td>\n",
       "      <td>-25.0</td>\n",
       "      <td>DL</td>\n",
       "      <td>461</td>\n",
       "      <td>N668DN</td>\n",
       "      <td>LGA</td>\n",
       "      <td>ATL</td>\n",
       "      <td>116.0</td>\n",
       "      <td>762</td>\n",
       "      <td>6</td>\n",
       "      <td>0</td>\n",
       "      <td>2013-01-01T11:00:00Z</td>\n",
       "    </tr>\n",
       "  </tbody>\n",
       "</table>\n",
       "</div>"
      ],
      "text/plain": [
       "          year  month  day  dep_time  sched_dep_time  dep_delay  arr_time  \\\n",
       "date                                                                        \n",
       "1-1-2013  2013      1    1     517.0             515        2.0     830.0   \n",
       "1-1-2013  2013      1    1     533.0             529        4.0     850.0   \n",
       "1-1-2013  2013      1    1     542.0             540        2.0     923.0   \n",
       "1-1-2013  2013      1    1     544.0             545       -1.0    1004.0   \n",
       "1-1-2013  2013      1    1     554.0             600       -6.0     812.0   \n",
       "\n",
       "          sched_arr_time  arr_delay carrier  flight tailnum origin dest  \\\n",
       "date                                                                      \n",
       "1-1-2013             819       11.0      UA    1545  N14228    EWR  IAH   \n",
       "1-1-2013             830       20.0      UA    1714  N24211    LGA  IAH   \n",
       "1-1-2013             850       33.0      AA    1141  N619AA    JFK  MIA   \n",
       "1-1-2013            1022      -18.0      B6     725  N804JB    JFK  BQN   \n",
       "1-1-2013             837      -25.0      DL     461  N668DN    LGA  ATL   \n",
       "\n",
       "          air_time  distance  hour  minute             time_hour  \n",
       "date                                                              \n",
       "1-1-2013     227.0      1400     5      15  2013-01-01T10:00:00Z  \n",
       "1-1-2013     227.0      1416     5      29  2013-01-01T10:00:00Z  \n",
       "1-1-2013     160.0      1089     5      40  2013-01-01T10:00:00Z  \n",
       "1-1-2013     183.0      1576     5      45  2013-01-01T10:00:00Z  \n",
       "1-1-2013     116.0       762     6       0  2013-01-01T11:00:00Z  "
      ]
     },
     "execution_count": 20,
     "metadata": {},
     "output_type": "execute_result"
    }
   ],
   "source": [
    "df.set_index(\"date\", inplace=True)\n",
    "df.head()"
   ]
  },
  {
   "cell_type": "markdown",
   "id": "57ee7113",
   "metadata": {
    "papermill": {
     "duration": 0.0537,
     "end_time": "2022-02-18T21:46:11.692130",
     "exception": false,
     "start_time": "2022-02-18T21:46:11.638430",
     "status": "completed"
    },
    "tags": []
   },
   "source": [
    "### our data now sorted by the date"
   ]
  },
  {
   "cell_type": "markdown",
   "id": "15284bcd",
   "metadata": {
    "papermill": {
     "duration": 0.053037,
     "end_time": "2022-02-18T21:46:11.796935",
     "exception": false,
     "start_time": "2022-02-18T21:46:11.743898",
     "status": "completed"
    },
    "tags": []
   },
   "source": [
    "# Exploratory Data Analysis"
   ]
  },
  {
   "cell_type": "code",
   "execution_count": 21,
   "id": "c65f7a8c",
   "metadata": {
    "execution": {
     "iopub.execute_input": "2022-02-18T21:46:11.905735Z",
     "iopub.status.busy": "2022-02-18T21:46:11.905158Z",
     "iopub.status.idle": "2022-02-18T21:46:12.897877Z",
     "shell.execute_reply": "2022-02-18T21:46:12.897346Z",
     "shell.execute_reply.started": "2022-02-18T21:43:13.994784Z"
    },
    "papermill": {
     "duration": 1.047057,
     "end_time": "2022-02-18T21:46:12.898024",
     "exception": false,
     "start_time": "2022-02-18T21:46:11.850967",
     "status": "completed"
    },
    "tags": []
   },
   "outputs": [],
   "source": [
    "import matplotlib.pyplot as plt\n",
    "import seaborn as sns\n",
    "import warnings\n",
    "warnings.filterwarnings('ignore')"
   ]
  },
  {
   "cell_type": "code",
   "execution_count": 22,
   "id": "2941ab2e",
   "metadata": {
    "execution": {
     "iopub.execute_input": "2022-02-18T21:46:13.010329Z",
     "iopub.status.busy": "2022-02-18T21:46:13.009648Z",
     "iopub.status.idle": "2022-02-18T21:46:13.669127Z",
     "shell.execute_reply": "2022-02-18T21:46:13.668639Z",
     "shell.execute_reply.started": "2022-02-18T21:43:14.008396Z"
    },
    "papermill": {
     "duration": 0.717903,
     "end_time": "2022-02-18T21:46:13.669279",
     "exception": false,
     "start_time": "2022-02-18T21:46:12.951376",
     "status": "completed"
    },
    "scrolled": true,
    "tags": []
   },
   "outputs": [
    {
     "data": {
      "image/png": "[encoded data removed]",
      "text/plain": [
       "<Figure size 864x648 with 2 Axes>"
      ]
     },
     "metadata": {
      "needs_background": "light"
     },
     "output_type": "display_data"
    }
   ],
   "source": [
    "#correlation matrix\n",
    "corrmat = df.corr()\n",
    "f, ax = plt.subplots(figsize=(12, 9))\n",
    "sns.heatmap(corrmat, vmax=.8, square=True);\n",
    "plt.show()"
   ]
  },
  {
   "cell_type": "markdown",
   "id": "73d7a3e0",
   "metadata": {
    "papermill": {
     "duration": 0.052452,
     "end_time": "2022-02-18T21:46:13.775822",
     "exception": false,
     "start_time": "2022-02-18T21:46:13.723370",
     "status": "completed"
    },
    "tags": []
   },
   "source": [
    "### this heatmap give us an intuation for the corrolation between our dataset columns which indicates that so coluns have very strong correlation like arrival time and departure time, other have so low correlation like arrival delay and distance."
   ]
  },
  {
   "cell_type": "code",
   "execution_count": 23,
   "id": "1b8149a8",
   "metadata": {
    "execution": {
     "iopub.execute_input": "2022-02-18T21:46:13.885549Z",
     "iopub.status.busy": "2022-02-18T21:46:13.884594Z",
     "iopub.status.idle": "2022-02-18T21:46:14.541797Z",
     "shell.execute_reply": "2022-02-18T21:46:14.541167Z",
     "shell.execute_reply.started": "2022-02-18T21:43:14.676821Z"
    },
    "papermill": {
     "duration": 0.713197,
     "end_time": "2022-02-18T21:46:14.541939",
     "exception": false,
     "start_time": "2022-02-18T21:46:13.828742",
     "status": "completed"
    },
    "tags": []
   },
   "outputs": [
    {
     "data": {
      "text/plain": [
       "Text(0.5, 0, 'Flight count')"
      ]
     },
     "execution_count": 23,
     "metadata": {},
     "output_type": "execute_result"
    },
    {
     "data": {
      "image/png": "[encoded data removed]",
      "text/plain": [
       "<Figure size 720x504 with 1 Axes>"
      ]
     },
     "metadata": {
      "needs_background": "light"
     },
     "output_type": "display_data"
    }
   ],
   "source": [
    "delay_type = lambda x:((0,1)[x > 5],2)[x > 45]\n",
    "\n",
    "fig = plt.figure(1, figsize=(10,7))\n",
    "ax = sns.countplot(y=\"carrier\", hue='year', data=df)\n",
    "\n",
    "# Setting Labels\n",
    "plt.setp(ax.get_xticklabels(), fontsize=12, weight = 'normal', rotation = 0);\n",
    "plt.setp(ax.get_yticklabels(), fontsize=12, weight = 'bold', rotation = 0);\n",
    "ax.yaxis.label.set_visible(False)\n",
    "plt.xlabel('Flight count', fontsize=16, weight = 'bold', labelpad=10)\n"
   ]
  },
  {
   "cell_type": "markdown",
   "id": "cd497edc",
   "metadata": {
    "papermill": {
     "duration": 0.053109,
     "end_time": "2022-02-18T21:46:14.649577",
     "exception": false,
     "start_time": "2022-02-18T21:46:14.596468",
     "status": "completed"
    },
    "tags": []
   },
   "source": [
    "### this count plot give us an observiation on which is the most airlines have made flights in 2013\n",
    "### we find that it is UA and B6 have most flights for 2014 where is very low flights for OO(SKYWEST)"
   ]
  },
  {
   "cell_type": "code",
   "execution_count": 24,
   "id": "69e0fa66",
   "metadata": {
    "execution": {
     "iopub.execute_input": "2022-02-18T21:46:14.764134Z",
     "iopub.status.busy": "2022-02-18T21:46:14.763512Z",
     "iopub.status.idle": "2022-02-18T21:46:14.974061Z",
     "shell.execute_reply": "2022-02-18T21:46:14.973534Z",
     "shell.execute_reply.started": "2022-02-18T21:43:15.613407Z"
    },
    "papermill": {
     "duration": 0.269984,
     "end_time": "2022-02-18T21:46:14.974202",
     "exception": false,
     "start_time": "2022-02-18T21:46:14.704218",
     "status": "completed"
    },
    "tags": []
   },
   "outputs": [],
   "source": [
    "#Status  on time (0),\n",
    "#slightly delayed (1),\n",
    "#highly delayed (2),\n",
    "for dataset in df:\n",
    "    df.loc[df['arr_delay'] <= 10, 'Status'] = 0\n",
    "    df.loc[df['arr_delay'] >= 10, 'Status'] = 1\n",
    "    df.loc[df['arr_delay'] >= 30, 'Status'] = 2\n"
   ]
  },
  {
   "cell_type": "code",
   "execution_count": 25,
   "id": "7df7b9b0",
   "metadata": {
    "execution": {
     "iopub.execute_input": "2022-02-18T21:46:15.091593Z",
     "iopub.status.busy": "2022-02-18T21:46:15.090501Z",
     "iopub.status.idle": "2022-02-18T21:46:15.435275Z",
     "shell.execute_reply": "2022-02-18T21:46:15.434681Z",
     "shell.execute_reply.started": "2022-02-18T21:43:15.853611Z"
    },
    "papermill": {
     "duration": 0.407377,
     "end_time": "2022-02-18T21:46:15.435411",
     "exception": false,
     "start_time": "2022-02-18T21:46:15.028034",
     "status": "completed"
    },
    "tags": []
   },
   "outputs": [
    {
     "data": {
      "image/png": "[encoded data removed]",
      "text/plain": [
       "<Figure size 1440x576 with 2 Axes>"
      ]
     },
     "metadata": {
      "needs_background": "light"
     },
     "output_type": "display_data"
    }
   ],
   "source": [
    "f,ax=plt.subplots(1,2,figsize=(20,8))\n",
    "df['Status'].value_counts().plot.pie(autopct='%1.1f%%',ax=ax[0],shadow=True)\n",
    "ax[0].set_title('Status')\n",
    "ax[0].set_ylabel('')\n",
    "sns.countplot('Status',order = df['Status'].value_counts().index, data=df,ax=ax[1])\n",
    "ax[1].set_title('Status')\n",
    "plt.show()"
   ]
  },
  {
   "cell_type": "markdown",
   "id": "7e2a6b11",
   "metadata": {
    "papermill": {
     "duration": 0.055439,
     "end_time": "2022-02-18T21:46:15.547256",
     "exception": false,
     "start_time": "2022-02-18T21:46:15.491817",
     "status": "completed"
    },
    "tags": []
   },
   "source": [
    "### In 2013, a 71% of flights were delayed by more than 10 minutes. 12.9% of flights  had delays of more than 10 min and less than half hour.On the other hand,  16.6% above hour"
   ]
  },
  {
   "cell_type": "code",
   "execution_count": 26,
   "id": "13c58dcf",
   "metadata": {
    "execution": {
     "iopub.execute_input": "2022-02-18T21:46:15.664596Z",
     "iopub.status.busy": "2022-02-18T21:46:15.663970Z",
     "iopub.status.idle": "2022-02-18T21:46:16.386666Z",
     "shell.execute_reply": "2022-02-18T21:46:16.385964Z",
     "shell.execute_reply.started": "2022-02-18T21:43:16.213797Z"
    },
    "papermill": {
     "duration": 0.784011,
     "end_time": "2022-02-18T21:46:16.386834",
     "exception": false,
     "start_time": "2022-02-18T21:46:15.602823",
     "status": "completed"
    },
    "tags": []
   },
   "outputs": [
    {
     "data": {
      "image/png": "[encoded data removed]",
      "text/plain": [
       "<Figure size 432x288 with 1 Axes>"
      ]
     },
     "metadata": {
      "needs_background": "light"
     },
     "output_type": "display_data"
    }
   ],
   "source": [
    "delay = df[(df.Status >= 1) &(df.Status < 3)]\n",
    "#histogram\n",
    "sns.distplot(delay['arr_delay'])\n",
    "plt.show()"
   ]
  },
  {
   "cell_type": "markdown",
   "id": "bbffcd16",
   "metadata": {
    "papermill": {
     "duration": 0.059164,
     "end_time": "2022-02-18T21:46:16.502320",
     "exception": false,
     "start_time": "2022-02-18T21:46:16.443156",
     "status": "completed"
    },
    "tags": []
   },
   "source": [
    "### It can be seen that delays are mostly located on the left side of the graph,The most of delays are short, and unusual we have very large delay"
   ]
  },
  {
   "cell_type": "code",
   "execution_count": 27,
   "id": "c1d547d0",
   "metadata": {
    "execution": {
     "iopub.execute_input": "2022-02-18T21:46:16.624335Z",
     "iopub.status.busy": "2022-02-18T21:46:16.623675Z",
     "iopub.status.idle": "2022-02-18T21:46:16.820084Z",
     "shell.execute_reply": "2022-02-18T21:46:16.820579Z",
     "shell.execute_reply.started": "2022-02-18T21:43:16.959612Z"
    },
    "papermill": {
     "duration": 0.261402,
     "end_time": "2022-02-18T21:46:16.820814",
     "exception": false,
     "start_time": "2022-02-18T21:46:16.559412",
     "status": "completed"
    },
    "tags": []
   },
   "outputs": [
    {
     "data": {
      "text/plain": [
       "<Figure size 1440x576 with 0 Axes>"
      ]
     },
     "metadata": {},
     "output_type": "display_data"
    },
    {
     "data": {
      "image/png": "[encoded data removed]",
      "text/plain": [
       "<Figure size 432x288 with 1 Axes>"
      ]
     },
     "metadata": {
      "needs_background": "light"
     },
     "output_type": "display_data"
    }
   ],
   "source": [
    "fig = plt.figure(figsize=(20,8))\n",
    "delay[['month','arr_delay']].groupby(['month']).mean().plot()\n",
    "plt.show()"
   ]
  },
  {
   "cell_type": "markdown",
   "id": "c91f8e97",
   "metadata": {
    "papermill": {
     "duration": 0.059338,
     "end_time": "2022-02-18T21:46:16.938548",
     "exception": false,
     "start_time": "2022-02-18T21:46:16.879210",
     "status": "completed"
    },
    "tags": []
   },
   "source": [
    "### Delays focused on February, June and December, might the cause of the sumer and winter holidays "
   ]
  },
  {
   "cell_type": "code",
   "execution_count": 28,
   "id": "057ffb05",
   "metadata": {
    "execution": {
     "iopub.execute_input": "2022-02-18T21:46:17.057638Z",
     "iopub.status.busy": "2022-02-18T21:46:17.056664Z",
     "iopub.status.idle": "2022-02-18T21:46:17.266231Z",
     "shell.execute_reply": "2022-02-18T21:46:17.266733Z",
     "shell.execute_reply.started": "2022-02-18T21:43:17.186188Z"
    },
    "papermill": {
     "duration": 0.271016,
     "end_time": "2022-02-18T21:46:17.266909",
     "exception": false,
     "start_time": "2022-02-18T21:46:16.995893",
     "status": "completed"
    },
    "tags": []
   },
   "outputs": [
    {
     "data": {
      "text/plain": [
       "<Figure size 1440x576 with 0 Axes>"
      ]
     },
     "metadata": {},
     "output_type": "display_data"
    },
    {
     "data": {
      "image/png": "[encoded data removed]",
      "text/plain": [
       "<Figure size 432x288 with 1 Axes>"
      ]
     },
     "metadata": {
      "needs_background": "light"
     },
     "output_type": "display_data"
    }
   ],
   "source": [
    "fig = plt.figure(figsize=(20,8))\n",
    "delay[['hour','arr_delay']].groupby(['hour']).mean().plot()\n",
    "plt.show()"
   ]
  },
  {
   "cell_type": "markdown",
   "id": "ff3e1d62",
   "metadata": {
    "papermill": {
     "duration": 0.059739,
     "end_time": "2022-02-18T21:46:17.387038",
     "exception": false,
     "start_time": "2022-02-18T21:46:17.327299",
     "status": "completed"
    },
    "tags": []
   },
   "source": [
    "### it is clear the the delays is rush between the 17:21 hour"
   ]
  },
  {
   "cell_type": "code",
   "execution_count": 29,
   "id": "bd5e0d4d",
   "metadata": {
    "execution": {
     "iopub.execute_input": "2022-02-18T21:46:17.509406Z",
     "iopub.status.busy": "2022-02-18T21:46:17.508818Z",
     "iopub.status.idle": "2022-02-18T21:46:17.556432Z",
     "shell.execute_reply": "2022-02-18T21:46:17.557038Z",
     "shell.execute_reply.started": "2022-02-18T21:43:17.417767Z"
    },
    "papermill": {
     "duration": 0.109639,
     "end_time": "2022-02-18T21:46:17.557207",
     "exception": false,
     "start_time": "2022-02-18T21:46:17.447568",
     "status": "completed"
    },
    "tags": []
   },
   "outputs": [
    {
     "data": {
      "text/html": [
       "<div>\n",
       "<style scoped>\n",
       "    .dataframe tbody tr th:only-of-type {\n",
       "        vertical-align: middle;\n",
       "    }\n",
       "\n",
       "    .dataframe tbody tr th {\n",
       "        vertical-align: top;\n",
       "    }\n",
       "\n",
       "    .dataframe thead th {\n",
       "        text-align: right;\n",
       "    }\n",
       "</style>\n",
       "<table border=\"1\" class=\"dataframe\">\n",
       "  <thead>\n",
       "    <tr style=\"text-align: right;\">\n",
       "      <th></th>\n",
       "      <th>hour</th>\n",
       "      <th>carrier</th>\n",
       "    </tr>\n",
       "    <tr>\n",
       "      <th>date</th>\n",
       "      <th></th>\n",
       "      <th></th>\n",
       "    </tr>\n",
       "  </thead>\n",
       "  <tbody>\n",
       "    <tr>\n",
       "      <th>1-1-2013</th>\n",
       "      <td>5</td>\n",
       "      <td>UA</td>\n",
       "    </tr>\n",
       "    <tr>\n",
       "      <th>1-1-2013</th>\n",
       "      <td>5</td>\n",
       "      <td>UA</td>\n",
       "    </tr>\n",
       "    <tr>\n",
       "      <th>1-1-2013</th>\n",
       "      <td>5</td>\n",
       "      <td>AA</td>\n",
       "    </tr>\n",
       "    <tr>\n",
       "      <th>1-1-2013</th>\n",
       "      <td>5</td>\n",
       "      <td>B6</td>\n",
       "    </tr>\n",
       "    <tr>\n",
       "      <th>1-1-2013</th>\n",
       "      <td>6</td>\n",
       "      <td>DL</td>\n",
       "    </tr>\n",
       "    <tr>\n",
       "      <th>...</th>\n",
       "      <td>...</td>\n",
       "      <td>...</td>\n",
       "    </tr>\n",
       "    <tr>\n",
       "      <th>30-1-2013</th>\n",
       "      <td>11</td>\n",
       "      <td>OO</td>\n",
       "    </tr>\n",
       "    <tr>\n",
       "      <th>3-11-2013</th>\n",
       "      <td>14</td>\n",
       "      <td>OO</td>\n",
       "    </tr>\n",
       "    <tr>\n",
       "      <th>10-11-2013</th>\n",
       "      <td>14</td>\n",
       "      <td>OO</td>\n",
       "    </tr>\n",
       "    <tr>\n",
       "      <th>17-11-2013</th>\n",
       "      <td>14</td>\n",
       "      <td>OO</td>\n",
       "    </tr>\n",
       "    <tr>\n",
       "      <th>25-11-2013</th>\n",
       "      <td>17</td>\n",
       "      <td>OO</td>\n",
       "    </tr>\n",
       "  </tbody>\n",
       "</table>\n",
       "<p>80 rows × 2 columns</p>\n",
       "</div>"
      ],
      "text/plain": [
       "            hour carrier\n",
       "date                    \n",
       "1-1-2013       5      UA\n",
       "1-1-2013       5      UA\n",
       "1-1-2013       5      AA\n",
       "1-1-2013       5      B6\n",
       "1-1-2013       6      DL\n",
       "...          ...     ...\n",
       "30-1-2013     11      OO\n",
       "3-11-2013     14      OO\n",
       "10-11-2013    14      OO\n",
       "17-11-2013    14      OO\n",
       "25-11-2013    17      OO\n",
       "\n",
       "[80 rows x 2 columns]"
      ]
     },
     "execution_count": 29,
     "metadata": {},
     "output_type": "execute_result"
    }
   ],
   "source": [
    "carrier_delay = df[['hour','carrier']].groupby(['carrier']).head()\n",
    "carrier_delay"
   ]
  },
  {
   "cell_type": "code",
   "execution_count": 30,
   "id": "6945dfbf",
   "metadata": {
    "execution": {
     "iopub.execute_input": "2022-02-18T21:46:17.677978Z",
     "iopub.status.busy": "2022-02-18T21:46:17.677354Z",
     "iopub.status.idle": "2022-02-18T21:46:18.050422Z",
     "shell.execute_reply": "2022-02-18T21:46:18.050863Z",
     "shell.execute_reply.started": "2022-02-18T21:43:17.471261Z"
    },
    "papermill": {
     "duration": 0.435395,
     "end_time": "2022-02-18T21:46:18.051032",
     "exception": false,
     "start_time": "2022-02-18T21:46:17.615637",
     "status": "completed"
    },
    "tags": []
   },
   "outputs": [
    {
     "data": {
      "image/png": "[encoded data removed]",
      "text/plain": [
       "<Figure size 1440x360 with 1 Axes>"
      ]
     },
     "metadata": {
      "needs_background": "light"
     },
     "output_type": "display_data"
    }
   ],
   "source": [
    "df.arr_delay.plot(figsize=(20,5))\n",
    "plt.title(\"delays over 2013\", size = 24)\n",
    "plt.ylim(0,1400)\n",
    "plt.show()"
   ]
  },
  {
   "cell_type": "code",
   "execution_count": 31,
   "id": "b3d31aa9",
   "metadata": {
    "execution": {
     "iopub.execute_input": "2022-02-18T21:46:18.207888Z",
     "iopub.status.busy": "2022-02-18T21:46:18.207239Z",
     "iopub.status.idle": "2022-02-18T21:46:19.780841Z",
     "shell.execute_reply": "2022-02-18T21:46:19.781306Z",
     "shell.execute_reply.started": "2022-02-18T21:43:17.871101Z"
    },
    "papermill": {
     "duration": 1.669718,
     "end_time": "2022-02-18T21:46:19.781475",
     "exception": false,
     "start_time": "2022-02-18T21:46:18.111757",
     "status": "completed"
    },
    "tags": []
   },
   "outputs": [
    {
     "data": {
      "text/plain": [
       "<AxesSubplot:xlabel='carrier', ylabel='arr_delay'>"
      ]
     },
     "execution_count": 31,
     "metadata": {},
     "output_type": "execute_result"
    },
    {
     "data": {
      "image/png": "[encoded data removed]",
      "text/plain": [
       "<Figure size 1440x576 with 1 Axes>"
      ]
     },
     "metadata": {
      "needs_background": "light"
     },
     "output_type": "display_data"
    }
   ],
   "source": [
    "f,ax=plt.subplots(1,figsize=(20,8))\n",
    "sns.barplot('carrier','arr_delay', data=delay,ax=ax, \n",
    "            order=['WN', 'AA','B6','AS', 'MQ',\n",
    "                   'UA','OO','DL','US','EV','FL',\n",
    "                   'YV', '9E','F9','HA'])\n"
   ]
  },
  {
   "cell_type": "markdown",
   "id": "9ae63e30",
   "metadata": {
    "papermill": {
     "duration": 0.062473,
     "end_time": "2022-02-18T21:46:19.904874",
     "exception": false,
     "start_time": "2022-02-18T21:46:19.842401",
     "status": "completed"
    },
    "tags": []
   },
   "source": [
    "### We find the the Airlines 'OO: Skywest Airlines', 'YV: Mesa Airlines','9E: Pinnacle Airlines', and 'EV: Atlantic Southeast Airlines' have the most delays time along all the dataset. in other way the Airlines  'UA: United Airlines', 'AS: Alaska Airlines' have the least time delay over all carriers."
   ]
  },
  {
   "cell_type": "markdown",
   "id": "5e765b26",
   "metadata": {
    "papermill": {
     "duration": 0.062239,
     "end_time": "2022-02-18T21:46:20.029739",
     "exception": false,
     "start_time": "2022-02-18T21:46:19.967500",
     "status": "completed"
    },
    "tags": []
   },
   "source": []
  },
  {
   "cell_type": "markdown",
   "id": "7c4b89ec",
   "metadata": {
    "papermill": {
     "duration": 0.062664,
     "end_time": "2022-02-18T21:46:20.154393",
     "exception": false,
     "start_time": "2022-02-18T21:46:20.091729",
     "status": "completed"
    },
    "tags": []
   },
   "source": [
    "\n",
    "\n",
    "# Time series forecasting with  ARIMA models.\n"
   ]
  },
  {
   "cell_type": "code",
   "execution_count": 32,
   "id": "335f2b85",
   "metadata": {
    "execution": {
     "iopub.execute_input": "2022-02-18T21:46:20.283200Z",
     "iopub.status.busy": "2022-02-18T21:46:20.282501Z",
     "iopub.status.idle": "2022-02-18T21:46:20.313326Z",
     "shell.execute_reply": "2022-02-18T21:46:20.312803Z",
     "shell.execute_reply.started": "2022-02-18T21:43:19.650850Z"
    },
    "papermill": {
     "duration": 0.096547,
     "end_time": "2022-02-18T21:46:20.313470",
     "exception": false,
     "start_time": "2022-02-18T21:46:20.216923",
     "status": "completed"
    },
    "tags": []
   },
   "outputs": [],
   "source": [
    "UA_delay = df.loc[df['carrier'] == 'UA', 'arr_delay']\n"
   ]
  },
  {
   "cell_type": "markdown",
   "id": "2d959266",
   "metadata": {
    "papermill": {
     "duration": 0.061202,
     "end_time": "2022-02-18T21:46:20.436913",
     "exception": false,
     "start_time": "2022-02-18T21:46:20.375711",
     "status": "completed"
    },
    "tags": []
   },
   "source": [
    "### We sliced our data to make the model more accurate so i will take the UA airlines to detect the delays for it.the reason why i chose the UA airlines as we seen before from the visualization it is the most airlines have number of travels in the year so we intersited on it."
   ]
  },
  {
   "cell_type": "code",
   "execution_count": 33,
   "id": "ea801cf5",
   "metadata": {
    "execution": {
     "iopub.execute_input": "2022-02-18T21:46:20.569277Z",
     "iopub.status.busy": "2022-02-18T21:46:20.568537Z",
     "iopub.status.idle": "2022-02-18T21:46:20.572678Z",
     "shell.execute_reply": "2022-02-18T21:46:20.572058Z",
     "shell.execute_reply.started": "2022-02-18T21:43:19.715290Z"
    },
    "papermill": {
     "duration": 0.070411,
     "end_time": "2022-02-18T21:46:20.572814",
     "exception": false,
     "start_time": "2022-02-18T21:46:20.502403",
     "status": "completed"
    },
    "tags": []
   },
   "outputs": [
    {
     "data": {
      "text/plain": [
       "pandas.core.series.Series"
      ]
     },
     "execution_count": 33,
     "metadata": {},
     "output_type": "execute_result"
    }
   ],
   "source": [
    "type(UA_delay)"
   ]
  },
  {
   "cell_type": "code",
   "execution_count": 34,
   "id": "e975af82",
   "metadata": {
    "execution": {
     "iopub.execute_input": "2022-02-18T21:46:20.705968Z",
     "iopub.status.busy": "2022-02-18T21:46:20.705309Z",
     "iopub.status.idle": "2022-02-18T21:46:20.709271Z",
     "shell.execute_reply": "2022-02-18T21:46:20.708801Z",
     "shell.execute_reply.started": "2022-02-18T21:43:19.730909Z"
    },
    "papermill": {
     "duration": 0.074687,
     "end_time": "2022-02-18T21:46:20.709414",
     "exception": false,
     "start_time": "2022-02-18T21:46:20.634727",
     "status": "completed"
    },
    "tags": []
   },
   "outputs": [
    {
     "data": {
      "text/html": [
       "<div>\n",
       "<style scoped>\n",
       "    .dataframe tbody tr th:only-of-type {\n",
       "        vertical-align: middle;\n",
       "    }\n",
       "\n",
       "    .dataframe tbody tr th {\n",
       "        vertical-align: top;\n",
       "    }\n",
       "\n",
       "    .dataframe thead th {\n",
       "        text-align: right;\n",
       "    }\n",
       "</style>\n",
       "<table border=\"1\" class=\"dataframe\">\n",
       "  <thead>\n",
       "    <tr style=\"text-align: right;\">\n",
       "      <th></th>\n",
       "      <th>arr_delay</th>\n",
       "    </tr>\n",
       "    <tr>\n",
       "      <th>date</th>\n",
       "      <th></th>\n",
       "    </tr>\n",
       "  </thead>\n",
       "  <tbody>\n",
       "    <tr>\n",
       "      <th>1-1-2013</th>\n",
       "      <td>11.0</td>\n",
       "    </tr>\n",
       "    <tr>\n",
       "      <th>1-1-2013</th>\n",
       "      <td>20.0</td>\n",
       "    </tr>\n",
       "    <tr>\n",
       "      <th>1-1-2013</th>\n",
       "      <td>12.0</td>\n",
       "    </tr>\n",
       "    <tr>\n",
       "      <th>1-1-2013</th>\n",
       "      <td>7.0</td>\n",
       "    </tr>\n",
       "    <tr>\n",
       "      <th>1-1-2013</th>\n",
       "      <td>-14.0</td>\n",
       "    </tr>\n",
       "  </tbody>\n",
       "</table>\n",
       "</div>"
      ],
      "text/plain": [
       "          arr_delay\n",
       "date               \n",
       "1-1-2013       11.0\n",
       "1-1-2013       20.0\n",
       "1-1-2013       12.0\n",
       "1-1-2013        7.0\n",
       "1-1-2013      -14.0"
      ]
     },
     "execution_count": 34,
     "metadata": {},
     "output_type": "execute_result"
    }
   ],
   "source": [
    "UA_delay = pd.DataFrame(UA_delay)\n",
    "UA_delay.head()"
   ]
  },
  {
   "cell_type": "code",
   "execution_count": 35,
   "id": "274c7e8a",
   "metadata": {
    "execution": {
     "iopub.execute_input": "2022-02-18T21:46:20.840341Z",
     "iopub.status.busy": "2022-02-18T21:46:20.839561Z",
     "iopub.status.idle": "2022-02-18T21:46:20.842681Z",
     "shell.execute_reply": "2022-02-18T21:46:20.843137Z",
     "shell.execute_reply.started": "2022-02-18T21:43:19.748434Z"
    },
    "papermill": {
     "duration": 0.071605,
     "end_time": "2022-02-18T21:46:20.843298",
     "exception": false,
     "start_time": "2022-02-18T21:46:20.771693",
     "status": "completed"
    },
    "tags": []
   },
   "outputs": [
    {
     "data": {
      "text/plain": [
       "(57782, 1)"
      ]
     },
     "execution_count": 35,
     "metadata": {},
     "output_type": "execute_result"
    }
   ],
   "source": [
    "UA_delay.shape"
   ]
  },
  {
   "cell_type": "code",
   "execution_count": 36,
   "id": "a8e019f5",
   "metadata": {
    "execution": {
     "iopub.execute_input": "2022-02-18T21:46:20.971991Z",
     "iopub.status.busy": "2022-02-18T21:46:20.971056Z",
     "iopub.status.idle": "2022-02-18T21:46:20.988667Z",
     "shell.execute_reply": "2022-02-18T21:46:20.989210Z",
     "shell.execute_reply.started": "2022-02-18T21:43:19.764801Z"
    },
    "papermill": {
     "duration": 0.083663,
     "end_time": "2022-02-18T21:46:20.989391",
     "exception": false,
     "start_time": "2022-02-18T21:46:20.905728",
     "status": "completed"
    },
    "tags": []
   },
   "outputs": [],
   "source": [
    "UA_delay=UA_delay.loc[['1-1-2013','2-1-2013','3-1-2013','4-1-2013','5-1-2013','6-1-2013','7-1-2013']]"
   ]
  },
  {
   "cell_type": "markdown",
   "id": "b694058d",
   "metadata": {
    "papermill": {
     "duration": 0.06223,
     "end_time": "2022-02-18T21:46:21.113964",
     "exception": false,
     "start_time": "2022-02-18T21:46:21.051734",
     "status": "completed"
    },
    "tags": []
   },
   "source": [
    "### working on week of the UA airlines delays"
   ]
  },
  {
   "cell_type": "markdown",
   "id": "4440be9d",
   "metadata": {
    "papermill": {
     "duration": 0.062204,
     "end_time": "2022-02-18T21:46:21.238942",
     "exception": false,
     "start_time": "2022-02-18T21:46:21.176738",
     "status": "completed"
    },
    "tags": []
   },
   "source": [
    "### convert the data series of the UA Delay to datafram to workon it."
   ]
  },
  {
   "cell_type": "markdown",
   "id": "b4d1590b",
   "metadata": {
    "papermill": {
     "duration": 0.062167,
     "end_time": "2022-02-18T21:46:21.363511",
     "exception": false,
     "start_time": "2022-02-18T21:46:21.301344",
     "status": "completed"
    },
    "tags": []
   },
   "source": [
    "### Splitting the Data"
   ]
  },
  {
   "cell_type": "code",
   "execution_count": 37,
   "id": "2c36d8a2",
   "metadata": {
    "execution": {
     "iopub.execute_input": "2022-02-18T21:46:21.494711Z",
     "iopub.status.busy": "2022-02-18T21:46:21.494071Z",
     "iopub.status.idle": "2022-02-18T21:46:21.808375Z",
     "shell.execute_reply": "2022-02-18T21:46:21.807450Z",
     "shell.execute_reply.started": "2022-02-18T21:43:19.794174Z"
    },
    "papermill": {
     "duration": 0.382122,
     "end_time": "2022-02-18T21:46:21.808574",
     "exception": false,
     "start_time": "2022-02-18T21:46:21.426452",
     "status": "completed"
    },
    "tags": []
   },
   "outputs": [],
   "source": [
    "from sklearn.model_selection import train_test_split\n",
    "df, df_test = train_test_split(UA_delay, test_size=0.3, random_state=44, shuffle =True)"
   ]
  },
  {
   "cell_type": "code",
   "execution_count": 38,
   "id": "10776085",
   "metadata": {
    "execution": {
     "iopub.execute_input": "2022-02-18T21:46:21.975005Z",
     "iopub.status.busy": "2022-02-18T21:46:21.974351Z",
     "iopub.status.idle": "2022-02-18T21:46:21.980716Z",
     "shell.execute_reply": "2022-02-18T21:46:21.981177Z",
     "shell.execute_reply.started": "2022-02-18T21:43:19.806785Z"
    },
    "papermill": {
     "duration": 0.085688,
     "end_time": "2022-02-18T21:46:21.981347",
     "exception": false,
     "start_time": "2022-02-18T21:46:21.895659",
     "status": "completed"
    },
    "tags": []
   },
   "outputs": [
    {
     "data": {
      "text/plain": [
       "(743, 1)"
      ]
     },
     "execution_count": 38,
     "metadata": {},
     "output_type": "execute_result"
    }
   ],
   "source": [
    "df.shape"
   ]
  },
  {
   "cell_type": "markdown",
   "id": "9122b290",
   "metadata": {
    "papermill": {
     "duration": 0.070609,
     "end_time": "2022-02-18T21:46:22.118765",
     "exception": false,
     "start_time": "2022-02-18T21:46:22.048156",
     "status": "completed"
    },
    "tags": []
   },
   "source": [
    "### 70% of the data will be for trianing and 30% for test"
   ]
  },
  {
   "cell_type": "code",
   "execution_count": 39,
   "id": "d98f2da9",
   "metadata": {
    "execution": {
     "iopub.execute_input": "2022-02-18T21:46:22.256389Z",
     "iopub.status.busy": "2022-02-18T21:46:22.255678Z",
     "iopub.status.idle": "2022-02-18T21:46:25.995021Z",
     "shell.execute_reply": "2022-02-18T21:46:25.995463Z",
     "shell.execute_reply.started": "2022-02-18T21:43:19.816466Z"
    },
    "papermill": {
     "duration": 3.809901,
     "end_time": "2022-02-18T21:46:25.995637",
     "exception": false,
     "start_time": "2022-02-18T21:46:22.185736",
     "status": "completed"
    },
    "tags": []
   },
   "outputs": [
    {
     "name": "stderr",
     "output_type": "stream",
     "text": [
      "/opt/conda/lib/python3.7/site-packages/statsmodels/tsa/base/tsa_model.py:595: ValueWarning: A date index has been provided, but it has no associated frequency information and so will be ignored when e.g. forecasting.\n",
      "  ' ignored when e.g. forecasting.', ValueWarning)\n",
      "/opt/conda/lib/python3.7/site-packages/statsmodels/tsa/base/tsa_model.py:599: ValueWarning: A date index has been provided, but it is not monotonic and so will be ignored when e.g. forecasting.\n",
      "  ' forecasting.', ValueWarning)\n",
      "/opt/conda/lib/python3.7/site-packages/statsmodels/tsa/base/tsa_model.py:595: ValueWarning: A date index has been provided, but it has no associated frequency information and so will be ignored when e.g. forecasting.\n",
      "  ' ignored when e.g. forecasting.', ValueWarning)\n",
      "/opt/conda/lib/python3.7/site-packages/statsmodels/tsa/base/tsa_model.py:599: ValueWarning: A date index has been provided, but it is not monotonic and so will be ignored when e.g. forecasting.\n",
      "  ' forecasting.', ValueWarning)\n",
      " This problem is unconstrained.\n"
     ]
    },
    {
     "name": "stdout",
     "output_type": "stream",
     "text": [
      "RUNNING THE L-BFGS-B CODE\n",
      "\n",
      "           * * *\n",
      "\n",
      "Machine precision = 2.220D-16\n",
      " N =            5     M =           10\n",
      "\n",
      "At X0         0 variables are exactly at the bounds\n",
      "\n",
      "At iterate    0    f=  5.12855D+00    |proj g|=  8.21602D-02\n",
      "\n",
      "At iterate    5    f=  5.06066D+00    |proj g|=  1.82910D-02\n",
      "\n",
      "At iterate   10    f=  4.89222D+00    |proj g|=  8.30121D-03\n",
      "\n",
      "           * * *\n",
      "\n",
      "Tit   = total number of iterations\n",
      "Tnf   = total number of function evaluations\n",
      "Tnint = total number of segments explored during Cauchy searches\n",
      "Skip  = number of BFGS updates skipped\n",
      "Nact  = number of active bounds at final generalized Cauchy point\n",
      "Projg = norm of the final projected gradient\n",
      "F     = final function value\n",
      "\n",
      "           * * *\n",
      "\n",
      "   N    Tit     Tnf  Tnint  Skip  Nact     Projg        F\n",
      "    5     14     21      1     0     0   9.313D-06   4.892D+00\n",
      "  F =   4.8921275063457133     \n",
      "\n",
      "CONVERGENCE: NORM_OF_PROJECTED_GRADIENT_<=_PGTOL            \n"
     ]
    },
    {
     "data": {
      "text/plain": [
       "<AxesSubplot:xlabel='date'>"
      ]
     },
     "execution_count": 39,
     "metadata": {},
     "output_type": "execute_result"
    },
    {
     "data": {
      "image/png": "[encoded data removed]",
      "text/plain": [
       "<Figure size 864x576 with 1 Axes>"
      ]
     },
     "metadata": {
      "needs_background": "light"
     },
     "output_type": "display_data"
    }
   ],
   "source": [
    "import warnings\n",
    "warnings.filterwarnings('ignore')\n",
    "import statsmodels.api as sm\n",
    "\n",
    "model=sm.tsa.statespace.SARIMAX(df['arr_delay'],order=(1, 1, 1),seasonal_order=(1,1,1,12))\n",
    "results=model.fit()\n",
    "df['forecast']=results.predict()\n",
    "df[['arr_delay','forecast']].plot(figsize=(12,8))"
   ]
  },
  {
   "cell_type": "markdown",
   "id": "0174502c",
   "metadata": {
    "papermill": {
     "duration": 0.070906,
     "end_time": "2022-02-18T21:46:26.135496",
     "exception": false,
     "start_time": "2022-02-18T21:46:26.064590",
     "status": "completed"
    },
    "tags": []
   },
   "source": [
    "### the forcasting delay vs. actual delay"
   ]
  },
  {
   "cell_type": "code",
   "execution_count": 40,
   "id": "9937b380",
   "metadata": {
    "execution": {
     "iopub.execute_input": "2022-02-18T21:46:26.283577Z",
     "iopub.status.busy": "2022-02-18T21:46:26.282960Z",
     "iopub.status.idle": "2022-02-18T21:46:26.295677Z",
     "shell.execute_reply": "2022-02-18T21:46:26.296197Z",
     "shell.execute_reply.started": "2022-02-18T21:43:23.589272Z"
    },
    "papermill": {
     "duration": 0.089819,
     "end_time": "2022-02-18T21:46:26.296399",
     "exception": false,
     "start_time": "2022-02-18T21:46:26.206580",
     "status": "completed"
    },
    "tags": []
   },
   "outputs": [
    {
     "data": {
      "text/html": [
       "<table class=\"simpletable\">\n",
       "<caption>SARIMAX Results</caption>\n",
       "<tr>\n",
       "  <th>Dep. Variable:</th>              <td>arr_delay</td>           <th>  No. Observations:  </th>    <td>743</td>   \n",
       "</tr>\n",
       "<tr>\n",
       "  <th>Model:</th>           <td>SARIMAX(1, 1, 1)x(1, 1, 1, 12)</td> <th>  Log Likelihood     </th> <td>-3634.851</td>\n",
       "</tr>\n",
       "<tr>\n",
       "  <th>Date:</th>                   <td>Fri, 18 Feb 2022</td>        <th>  AIC                </th> <td>7279.701</td> \n",
       "</tr>\n",
       "<tr>\n",
       "  <th>Time:</th>                       <td>21:46:26</td>            <th>  BIC                </th> <td>7302.667</td> \n",
       "</tr>\n",
       "<tr>\n",
       "  <th>Sample:</th>                         <td>0</td>               <th>  HQIC               </th> <td>7288.562</td> \n",
       "</tr>\n",
       "<tr>\n",
       "  <th></th>                             <td> - 743</td>             <th>                     </th>     <td> </td>    \n",
       "</tr>\n",
       "<tr>\n",
       "  <th>Covariance Type:</th>               <td>opg</td>              <th>                     </th>     <td> </td>    \n",
       "</tr>\n",
       "</table>\n",
       "<table class=\"simpletable\">\n",
       "<tr>\n",
       "      <td></td>        <th>coef</th>     <th>std err</th>      <th>z</th>      <th>P>|z|</th>  <th>[0.025</th>    <th>0.975]</th>  \n",
       "</tr>\n",
       "<tr>\n",
       "  <th>ar.L1</th>    <td>   -0.0148</td> <td>    0.045</td> <td>   -0.330</td> <td> 0.742</td> <td>   -0.103</td> <td>    0.073</td>\n",
       "</tr>\n",
       "<tr>\n",
       "  <th>ma.L1</th>    <td>   -0.9984</td> <td>    0.063</td> <td>  -15.767</td> <td> 0.000</td> <td>   -1.122</td> <td>   -0.874</td>\n",
       "</tr>\n",
       "<tr>\n",
       "  <th>ar.S.L12</th> <td>   -0.0272</td> <td>    0.030</td> <td>   -0.908</td> <td> 0.364</td> <td>   -0.086</td> <td>    0.032</td>\n",
       "</tr>\n",
       "<tr>\n",
       "  <th>ma.S.L12</th> <td>   -0.9989</td> <td>    0.694</td> <td>   -1.440</td> <td> 0.150</td> <td>   -2.359</td> <td>    0.361</td>\n",
       "</tr>\n",
       "<tr>\n",
       "  <th>sigma2</th>   <td> 1138.2695</td> <td>  774.452</td> <td>    1.470</td> <td> 0.142</td> <td> -379.629</td> <td> 2656.168</td>\n",
       "</tr>\n",
       "</table>\n",
       "<table class=\"simpletable\">\n",
       "<tr>\n",
       "  <th>Ljung-Box (L1) (Q):</th>     <td>0.01</td> <th>  Jarque-Bera (JB):  </th> <td>24336.35</td>\n",
       "</tr>\n",
       "<tr>\n",
       "  <th>Prob(Q):</th>                <td>0.94</td> <th>  Prob(JB):          </th>   <td>0.00</td>  \n",
       "</tr>\n",
       "<tr>\n",
       "  <th>Heteroskedasticity (H):</th> <td>0.36</td> <th>  Skew:              </th>   <td>3.52</td>  \n",
       "</tr>\n",
       "<tr>\n",
       "  <th>Prob(H) (two-sided):</th>    <td>0.00</td> <th>  Kurtosis:          </th>   <td>30.40</td> \n",
       "</tr>\n",
       "</table><br/><br/>Warnings:<br/>[1] Covariance matrix calculated using the outer product of gradients (complex-step)."
      ],
      "text/plain": [
       "<class 'statsmodels.iolib.summary.Summary'>\n",
       "\"\"\"\n",
       "                                     SARIMAX Results                                      \n",
       "==========================================================================================\n",
       "Dep. Variable:                          arr_delay   No. Observations:                  743\n",
       "Model:             SARIMAX(1, 1, 1)x(1, 1, 1, 12)   Log Likelihood               -3634.851\n",
       "Date:                            Fri, 18 Feb 2022   AIC                           7279.701\n",
       "Time:                                    21:46:26   BIC                           7302.667\n",
       "Sample:                                         0   HQIC                          7288.562\n",
       "                                            - 743                                         \n",
       "Covariance Type:                              opg                                         \n",
       "==============================================================================\n",
       "                 coef    std err          z      P>|z|      [0.025      0.975]\n",
       "------------------------------------------------------------------------------\n",
       "ar.L1         -0.0148      0.045     -0.330      0.742      -0.103       0.073\n",
       "ma.L1         -0.9984      0.063    -15.767      0.000      -1.122      -0.874\n",
       "ar.S.L12      -0.0272      0.030     -0.908      0.364      -0.086       0.032\n",
       "ma.S.L12      -0.9989      0.694     -1.440      0.150      -2.359       0.361\n",
       "sigma2      1138.2695    774.452      1.470      0.142    -379.629    2656.168\n",
       "===================================================================================\n",
       "Ljung-Box (L1) (Q):                   0.01   Jarque-Bera (JB):             24336.35\n",
       "Prob(Q):                              0.94   Prob(JB):                         0.00\n",
       "Heteroskedasticity (H):               0.36   Skew:                             3.52\n",
       "Prob(H) (two-sided):                  0.00   Kurtosis:                        30.40\n",
       "===================================================================================\n",
       "\n",
       "Warnings:\n",
       "[1] Covariance matrix calculated using the outer product of gradients (complex-step).\n",
       "\"\"\""
      ]
     },
     "execution_count": 40,
     "metadata": {},
     "output_type": "execute_result"
    }
   ],
   "source": [
    "results.summary()"
   ]
  },
  {
   "cell_type": "code",
   "execution_count": 41,
   "id": "b168431b",
   "metadata": {
    "execution": {
     "iopub.execute_input": "2022-02-18T21:46:26.446761Z",
     "iopub.status.busy": "2022-02-18T21:46:26.446056Z",
     "iopub.status.idle": "2022-02-18T21:46:26.450361Z",
     "shell.execute_reply": "2022-02-18T21:46:26.449834Z",
     "shell.execute_reply.started": "2022-02-18T21:43:23.607983Z"
    },
    "papermill": {
     "duration": 0.081508,
     "end_time": "2022-02-18T21:46:26.450502",
     "exception": false,
     "start_time": "2022-02-18T21:46:26.368994",
     "status": "completed"
    },
    "tags": []
   },
   "outputs": [],
   "source": [
    "import statsmodels.api as sm\n",
    "import warnings\n",
    "warnings.filterwarnings('ignore')\n",
    "from statsmodels.tsa.arima_model import ARIMA"
   ]
  },
  {
   "cell_type": "code",
   "execution_count": 42,
   "id": "3c8573df",
   "metadata": {
    "execution": {
     "iopub.execute_input": "2022-02-18T21:46:26.610298Z",
     "iopub.status.busy": "2022-02-18T21:46:26.603435Z",
     "iopub.status.idle": "2022-02-18T21:46:26.757675Z",
     "shell.execute_reply": "2022-02-18T21:46:26.758499Z",
     "shell.execute_reply.started": "2022-02-18T21:43:23.614474Z"
    },
    "papermill": {
     "duration": 0.234625,
     "end_time": "2022-02-18T21:46:26.758805",
     "exception": false,
     "start_time": "2022-02-18T21:46:26.524180",
     "status": "completed"
    },
    "tags": []
   },
   "outputs": [
    {
     "data": {
      "text/html": [
       "<table class=\"simpletable\">\n",
       "<caption>SARIMAX Results</caption>\n",
       "<tr>\n",
       "  <th>Dep. Variable:</th>       <td>arr_delay</td>    <th>  No. Observations:  </th>    <td>743</td>   \n",
       "</tr>\n",
       "<tr>\n",
       "  <th>Model:</th>            <td>ARIMA(1, 1, 1)</td>  <th>  Log Likelihood     </th> <td>-3665.792</td>\n",
       "</tr>\n",
       "<tr>\n",
       "  <th>Date:</th>            <td>Fri, 18 Feb 2022</td> <th>  AIC                </th> <td>7337.584</td> \n",
       "</tr>\n",
       "<tr>\n",
       "  <th>Time:</th>                <td>21:46:26</td>     <th>  BIC                </th> <td>7351.412</td> \n",
       "</tr>\n",
       "<tr>\n",
       "  <th>Sample:</th>                  <td>0</td>        <th>  HQIC               </th> <td>7342.915</td> \n",
       "</tr>\n",
       "<tr>\n",
       "  <th></th>                      <td> - 743</td>      <th>                     </th>     <td> </td>    \n",
       "</tr>\n",
       "<tr>\n",
       "  <th>Covariance Type:</th>        <td>opg</td>       <th>                     </th>     <td> </td>    \n",
       "</tr>\n",
       "</table>\n",
       "<table class=\"simpletable\">\n",
       "<tr>\n",
       "     <td></td>       <th>coef</th>     <th>std err</th>      <th>z</th>      <th>P>|z|</th>  <th>[0.025</th>    <th>0.975]</th>  \n",
       "</tr>\n",
       "<tr>\n",
       "  <th>ar.L1</th>  <td>   -0.0141</td> <td>    0.044</td> <td>   -0.322</td> <td> 0.748</td> <td>   -0.100</td> <td>    0.072</td>\n",
       "</tr>\n",
       "<tr>\n",
       "  <th>ma.L1</th>  <td>   -0.9951</td> <td>    0.007</td> <td> -137.697</td> <td> 0.000</td> <td>   -1.009</td> <td>   -0.981</td>\n",
       "</tr>\n",
       "<tr>\n",
       "  <th>sigma2</th> <td> 1137.6104</td> <td>   18.973</td> <td>   59.959</td> <td> 0.000</td> <td> 1100.424</td> <td> 1174.797</td>\n",
       "</tr>\n",
       "</table>\n",
       "<table class=\"simpletable\">\n",
       "<tr>\n",
       "  <th>Ljung-Box (L1) (Q):</th>     <td>0.01</td> <th>  Jarque-Bera (JB):  </th> <td>39926.00</td>\n",
       "</tr>\n",
       "<tr>\n",
       "  <th>Prob(Q):</th>                <td>0.93</td> <th>  Prob(JB):          </th>   <td>0.00</td>  \n",
       "</tr>\n",
       "<tr>\n",
       "  <th>Heteroskedasticity (H):</th> <td>0.36</td> <th>  Skew:              </th>   <td>4.36</td>  \n",
       "</tr>\n",
       "<tr>\n",
       "  <th>Prob(H) (two-sided):</th>    <td>0.00</td> <th>  Kurtosis:          </th>   <td>37.86</td> \n",
       "</tr>\n",
       "</table><br/><br/>Warnings:<br/>[1] Covariance matrix calculated using the outer product of gradients (complex-step)."
      ],
      "text/plain": [
       "<class 'statsmodels.iolib.summary.Summary'>\n",
       "\"\"\"\n",
       "                               SARIMAX Results                                \n",
       "==============================================================================\n",
       "Dep. Variable:              arr_delay   No. Observations:                  743\n",
       "Model:                 ARIMA(1, 1, 1)   Log Likelihood               -3665.792\n",
       "Date:                Fri, 18 Feb 2022   AIC                           7337.584\n",
       "Time:                        21:46:26   BIC                           7351.412\n",
       "Sample:                             0   HQIC                          7342.915\n",
       "                                - 743                                         \n",
       "Covariance Type:                  opg                                         \n",
       "==============================================================================\n",
       "                 coef    std err          z      P>|z|      [0.025      0.975]\n",
       "------------------------------------------------------------------------------\n",
       "ar.L1         -0.0141      0.044     -0.322      0.748      -0.100       0.072\n",
       "ma.L1         -0.9951      0.007   -137.697      0.000      -1.009      -0.981\n",
       "sigma2      1137.6104     18.973     59.959      0.000    1100.424    1174.797\n",
       "===================================================================================\n",
       "Ljung-Box (L1) (Q):                   0.01   Jarque-Bera (JB):             39926.00\n",
       "Prob(Q):                              0.93   Prob(JB):                         0.00\n",
       "Heteroskedasticity (H):               0.36   Skew:                             4.36\n",
       "Prob(H) (two-sided):                  0.00   Kurtosis:                        37.86\n",
       "===================================================================================\n",
       "\n",
       "Warnings:\n",
       "[1] Covariance matrix calculated using the outer product of gradients (complex-step).\n",
       "\"\"\""
      ]
     },
     "execution_count": 42,
     "metadata": {},
     "output_type": "execute_result"
    }
   ],
   "source": [
    "# For non-seasonal data\n",
    "#p=1, d=1, q=0 or 1\n",
    "\n",
    "model2=sm.tsa.arima.ARIMA(df['arr_delay'],order=(1,1,1))\n",
    "model_fit2=model2.fit()\n",
    "model_fit2.summary()"
   ]
  },
  {
   "cell_type": "code",
   "execution_count": 43,
   "id": "b8b044f7",
   "metadata": {
    "execution": {
     "iopub.execute_input": "2022-02-18T21:46:26.923119Z",
     "iopub.status.busy": "2022-02-18T21:46:26.922207Z",
     "iopub.status.idle": "2022-02-18T21:46:27.081333Z",
     "shell.execute_reply": "2022-02-18T21:46:27.080444Z",
     "shell.execute_reply.started": "2022-02-18T21:43:23.786424Z"
    },
    "papermill": {
     "duration": 0.234566,
     "end_time": "2022-02-18T21:46:27.081492",
     "exception": false,
     "start_time": "2022-02-18T21:46:26.846926",
     "status": "completed"
    },
    "tags": []
   },
   "outputs": [
    {
     "data": {
      "image/png": "[encoded data removed]",
      "text/plain": [
       "<Figure size 432x288 with 1 Axes>"
      ]
     },
     "metadata": {
      "needs_background": "light"
     },
     "output_type": "display_data"
    }
   ],
   "source": [
    "from pandas.plotting import autocorrelation_plot\n",
    "autocorrelation_plot(df['arr_delay'])\n",
    "plt.show()"
   ]
  },
  {
   "cell_type": "markdown",
   "id": "364c0a72",
   "metadata": {
    "papermill": {
     "duration": 0.074906,
     "end_time": "2022-02-18T21:46:27.235665",
     "exception": false,
     "start_time": "2022-02-18T21:46:27.160759",
     "status": "completed"
    },
    "tags": []
   },
   "source": [
    "### Time Series forecasting is really useful when we have to take future decisions or we have to do analysis, we can quickly do that using ARIMA, there are lots of other Models from we can do the time series forecasting but ARIMA is really easy to understand."
   ]
  }
 ],
 "metadata": {
  "kernelspec": {
   "display_name": "Python 3",
   "language": "python",
   "name": "python3"
  },
  "language_info": {
   "codemirror_mode": {
    "name": "ipython",
    "version": 3
   },
   "file_extension": ".py",
   "mimetype": "text/x-python",
   "name": "python",
   "nbconvert_exporter": "python",
   "pygments_lexer": "ipython3",
   "version": "3.7.12"
  },
  "papermill": {
   "default_parameters": {},
   "duration": 34.997561,
   "end_time": "2022-02-18T21:46:28.120466",
   "environment_variables": {},
   "exception": null,
   "input_path": "__notebook__.ipynb",
   "output_path": "__notebook__.ipynb",
   "parameters": {},
   "start_time": "2022-02-18T21:45:53.122905",
   "version": "2.3.3"
  }
 },
 "nbformat": 4,
 "nbformat_minor": 5
}
